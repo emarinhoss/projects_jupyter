{
 "cells": [
  {
   "cell_type": "code",
   "execution_count": 1,
   "metadata": {},
   "outputs": [
    {
     "name": "stdout",
     "output_type": "stream",
     "text": [
      "the python version is: 3.6.3\n"
     ]
    }
   ],
   "source": [
    "%matplotlib inline\n",
    "import platform\n",
    "print('the python version is: ' + platform.python_version())\n",
    "import findspark\n",
    "findspark.init()\n",
    "import pyspark\n",
    "from pyspark import SparkContext"
   ]
  },
  {
   "cell_type": "code",
   "execution_count": 2,
   "metadata": {},
   "outputs": [
    {
     "name": "stdout",
     "output_type": "stream",
     "text": [
      "\n",
      " //// Started local Spark session //// \n",
      "\n"
     ]
    }
   ],
   "source": [
    "print('\\n' + ' //// Started local Spark session //// ' + '\\n')\n",
    "sc = SparkContext(\"local\", \"RDD basic functions App\")\n",
    "sc.setLogLevel(\"WARN\")"
   ]
  },
  {
   "cell_type": "markdown",
   "metadata": {},
   "source": [
    "Load data from World Wide Web and store it in *kddcup.data_10_percent.gz*:\n",
    "\n",
    "Information about data schema can be found here: http://kdd.ics.uci.edu/databases/kddcup99/task.html"
   ]
  },
  {
   "cell_type": "code",
   "execution_count": 3,
   "metadata": {
    "collapsed": true
   },
   "outputs": [],
   "source": [
    "import urllib.request\n",
    "f = urllib.request.urlretrieve(\"http://kdd.ics.uci.edu/databases/kddcup99/kddcup.data_10_percent.gz\", \"kddcup.data_10_percent.gz\")\n",
    "data_file = \"./kddcup.data_10_percent.gz\"\n",
    "#construct the RDD from input file\n",
    "rawData = sc.textFile(data_file)"
   ]
  },
  {
   "cell_type": "markdown",
   "metadata": {},
   "source": [
    "Show first 5 lines:"
   ]
  },
  {
   "cell_type": "code",
   "execution_count": 4,
   "metadata": {},
   "outputs": [
    {
     "name": "stdout",
     "output_type": "stream",
     "text": [
      "0,tcp,http,SF,181,5450,0,0,0,0,0,1,0,0,0,0,0,0,0,0,0,0,8,8,0.00,0.00,0.00,0.00,1.00,0.00,0.00,9,9,1.00,0.00,0.11,0.00,0.00,0.00,0.00,0.00,normal.\n",
      "0,tcp,http,SF,239,486,0,0,0,0,0,1,0,0,0,0,0,0,0,0,0,0,8,8,0.00,0.00,0.00,0.00,1.00,0.00,0.00,19,19,1.00,0.00,0.05,0.00,0.00,0.00,0.00,0.00,normal.\n",
      "0,tcp,http,SF,235,1337,0,0,0,0,0,1,0,0,0,0,0,0,0,0,0,0,8,8,0.00,0.00,0.00,0.00,1.00,0.00,0.00,29,29,1.00,0.00,0.03,0.00,0.00,0.00,0.00,0.00,normal.\n",
      "0,tcp,http,SF,219,1337,0,0,0,0,0,1,0,0,0,0,0,0,0,0,0,0,6,6,0.00,0.00,0.00,0.00,1.00,0.00,0.00,39,39,1.00,0.00,0.03,0.00,0.00,0.00,0.00,0.00,normal.\n",
      "0,tcp,http,SF,217,2032,0,0,0,0,0,1,0,0,0,0,0,0,0,0,0,0,6,6,0.00,0.00,0.00,0.00,1.00,0.00,0.00,49,49,1.00,0.00,0.02,0.00,0.00,0.00,0.00,0.00,normal.\n"
     ]
    }
   ],
   "source": [
    "firstFiveLines = rawData.take(5)\n",
    "for line in firstFiveLines:\n",
    "    print(line)"
   ]
  },
  {
   "cell_type": "code",
   "execution_count": 5,
   "metadata": {
    "collapsed": true
   },
   "outputs": [],
   "source": [
    "#filter out normal connections - transformation\n",
    "normalData = rawData.filter(lambda line: 'normal.' in line)"
   ]
  },
  {
   "cell_type": "code",
   "execution_count": 6,
   "metadata": {},
   "outputs": [
    {
     "name": "stdout",
     "output_type": "stream",
     "text": [
      "97278\n"
     ]
    }
   ],
   "source": [
    "#filter out normal connections - transformation + action\n",
    "normalDataCount = normalData.count()\n",
    "print(normalDataCount)"
   ]
  },
  {
   "cell_type": "markdown",
   "metadata": {},
   "source": [
    "**Exercise:** Count the \"normal\" entries in connection data set and compare to total number "
   ]
  },
  {
   "cell_type": "code",
   "execution_count": 7,
   "metadata": {},
   "outputs": [
    {
     "name": "stdout",
     "output_type": "stream",
     "text": [
      "the total number of entries in data set is: 494021 compared to 97278 normal entries.\n"
     ]
    }
   ],
   "source": [
    "rawDataCount = rawData.count()\n",
    "print('the total number of entries in data set is: {}'.format(rawDataCount) + ' compared to {} '.format(normalDataCount) + 'normal entries.')"
   ]
  },
  {
   "cell_type": "markdown",
   "metadata": {},
   "source": [
    "**Exercise:** Measure the time needed to formulate transformation and combination to transformation (filter) plus action (counting). Hint: use the 'time' module"
   ]
  },
  {
   "cell_type": "code",
   "execution_count": 8,
   "metadata": {},
   "outputs": [
    {
     "name": "stdout",
     "output_type": "stream",
     "text": [
      "transformation time: 0.055 ms, full time: 745.001 ms\n"
     ]
    }
   ],
   "source": [
    "#measure time to complete full map reduce\n",
    "from time import time\n",
    "t0 = time()\n",
    "normalData = rawData.filter(lambda x: 'normal.' in x)\n",
    "t1 = time()\n",
    "t_trans = t1-t0\n",
    "t0 = time()\n",
    "normalDataCount = rawData.filter(lambda x: 'normal.' in x).collect()\n",
    "t1 = time()\n",
    "t_transAct = t1-t0\n",
    "print('transformation time: {}'.format(round((t_trans)*1000,3)) + ' ms, full time: {}'.format(round((t_transAct)*1000,3)) +' ms')"
   ]
  },
  {
   "cell_type": "markdown",
   "metadata": {},
   "source": [
    "To avoid overhead, sometimes it is sufficient to get an approximation for an amount. For this, a sub-sample or the data set might be sufficient to get approximate values. \n",
    "\n",
    "**Exercise:** Use the 'sample' transformation to collect a subset of the full data set and repeat time measurement. What is your observation? Vary the sample size starting with 10%."
   ]
  },
  {
   "cell_type": "code",
   "execution_count": 9,
   "metadata": {},
   "outputs": [
    {
     "name": "stdout",
     "output_type": "stream",
     "text": [
      "Sample size is 49493 of 494021\n",
      "sample full time: 536.54 ms, full time: 745.001 ms\n"
     ]
    }
   ],
   "source": [
    "t0 = time()\n",
    "rawDataSamples = rawData.sample(False, 0.1, 1234)\n",
    "samplesCount = rawDataSamples.count()\n",
    "t1 = time()\n",
    "t_sample = t1-t0\n",
    "print('Sample size is {}'.format(samplesCount) + ' of {}'.format(rawDataCount))\n",
    "print('sample full time: {}'.format(round((t_sample)*1000,3)) + ' ms, full time: {}'.format(round((t_transAct)*1000,3)) +' ms')"
   ]
  },
  {
   "cell_type": "markdown",
   "metadata": {},
   "source": [
    "Get the suspicious data sets by using the 'subtract' transformation."
   ]
  },
  {
   "cell_type": "code",
   "execution_count": 10,
   "metadata": {},
   "outputs": [
    {
     "name": "stdout",
     "output_type": "stream",
     "text": [
      "Number of suspicious entries  396743\n"
     ]
    }
   ],
   "source": [
    "suspiciousData = rawData.subtract(normalData)\n",
    "suspiciousDataCount = suspiciousData.count()\n",
    "print('Number of suspicious entries  {}'.format(suspiciousDataCount))"
   ]
  },
  {
   "cell_type": "markdown",
   "metadata": {},
   "source": [
    "**Exercise:** Collect all different types of connection protocols and used services in the data set (you can also use the sample data set instead of the full one). Hint: you have to first split up each individual entry, since it is simply a long string. Use the 'split()' function in a mapping transformation first."
   ]
  },
  {
   "cell_type": "code",
   "execution_count": 11,
   "metadata": {},
   "outputs": [
    {
     "name": "stdout",
     "output_type": "stream",
     "text": [
      "take first element each\n",
      "['0,tcp,http,SF,181,5450,0,0,0,0,0,1,0,0,0,0,0,0,0,0,0,0,8,8,0.00,0.00,0.00,0.00,1.00,0.00,0.00,9,9,1.00,0.00,0.11,0.00,0.00,0.00,0.00,0.00,normal.']\n",
      "[['0', 'tcp', 'http', 'SF', '181', '5450', '0', '0', '0', '0', '0', '1', '0', '0', '0', '0', '0', '0', '0', '0', '0', '0', '8', '8', '0.00', '0.00', '0.00', '0.00', '1.00', '0.00', '0.00', '9', '9', '1.00', '0.00', '0.11', '0.00', '0.00', '0.00', '0.00', '0.00', 'normal.']]\n"
     ]
    }
   ],
   "source": [
    "inData = rawData.map(lambda line: line.split(\",\"))\n",
    "print('take first element each')\n",
    "print(rawData.take(1))\n",
    "print(inData.take(1))"
   ]
  },
  {
   "cell_type": "code",
   "execution_count": 12,
   "metadata": {},
   "outputs": [
    {
     "name": "stdout",
     "output_type": "stream",
     "text": [
      "all protcols found in the data set: ['tcp', 'udp', 'icmp'] \n"
     ]
    }
   ],
   "source": [
    "protocols = inData.map(lambda x: x[1]).distinct()\n",
    "print('all protcols found in the data set: {} '.format(protocols.collect()) )"
   ]
  },
  {
   "cell_type": "code",
   "execution_count": 13,
   "metadata": {},
   "outputs": [
    {
     "name": "stdout",
     "output_type": "stream",
     "text": [
      "['http', 'smtp', 'finger', 'domain_u', 'auth', 'telnet', 'ftp', 'eco_i', 'ntp_u', 'ecr_i', 'other', 'private', 'pop_3', 'ftp_data', 'rje', 'time', 'mtp', 'link', 'remote_job', 'gopher', 'ssh', 'name', 'whois', 'domain', 'login', 'imap4', 'daytime', 'ctf', 'nntp', 'shell', 'IRC', 'nnsp', 'http_443', 'exec', 'printer', 'efs', 'courier', 'uucp', 'klogin', 'kshell', 'echo', 'discard', 'systat', 'supdup', 'iso_tsap', 'hostnames', 'csnet_ns', 'pop_2', 'sunrpc', 'uucp_path', 'netbios_ns', 'netbios_ssn', 'netbios_dgm', 'sql_net', 'vmnet', 'bgp', 'Z39_50', 'ldap', 'netstat', 'urh_i', 'X11', 'urp_i', 'pm_dump', 'tftp_u', 'tim_i', 'red_i']\n"
     ]
    }
   ],
   "source": [
    "services = inData.map(lambda x: x[2]).distinct()\n",
    "print( services.collect() )"
   ]
  },
  {
   "cell_type": "code",
   "execution_count": 14,
   "metadata": {},
   "outputs": [
    {
     "name": "stdout",
     "output_type": "stream",
     "text": [
      "There are 198 combinations of protocol X service\n"
     ]
    }
   ],
   "source": [
    "product = protocols.cartesian(services).collect()\n",
    "print('There are {} combinations of protocol X service'.format(len(product)))"
   ]
  },
  {
   "cell_type": "code",
   "execution_count": 15,
   "metadata": {},
   "outputs": [
    {
     "name": "stdout",
     "output_type": "stream",
     "text": [
      "There are 68 combinations of protocols and services\n"
     ]
    }
   ],
   "source": [
    "combinations = inData.map(lambda x: (x[1],x[2])).distinct()\n",
    "print('There are {} combinations of protocols and services'.format(combinations.count()))"
   ]
  },
  {
   "cell_type": "markdown",
   "metadata": {},
   "source": [
    "Show all protocol/service combinations which do not exist in the data set:"
   ]
  },
  {
   "cell_type": "code",
   "execution_count": 16,
   "metadata": {},
   "outputs": [
    {
     "name": "stdout",
     "output_type": "stream",
     "text": [
      "[('tcp', 'eco_i'), ('tcp', 'urh_i'), ('tcp', 'urp_i'), ('tcp', 'red_i'), ('udp', 'http'), ('icmp', 'http'), ('udp', 'smtp'), ('icmp', 'smtp'), ('udp', 'auth'), ('icmp', 'domain_u'), ('icmp', 'auth'), ('udp', 'ecr_i'), ('udp', 'pop_3'), ('udp', 'ftp_data'), ('icmp', 'ntp_u'), ('icmp', 'pop_3'), ('icmp', 'ftp_data'), ('udp', 'time'), ('udp', 'mtp'), ('udp', 'link'), ('udp', 'gopher'), ('udp', 'ssh'), ('udp', 'whois'), ('udp', 'imap4'), ('udp', 'ctf'), ('udp', 'IRC'), ('icmp', 'time'), ('icmp', 'mtp'), ('icmp', 'link'), ('icmp', 'gopher'), ('icmp', 'ssh'), ('icmp', 'whois'), ('icmp', 'imap4'), ('icmp', 'ctf'), ('icmp', 'IRC'), ('udp', 'http_443'), ('udp', 'printer'), ('udp', 'courier'), ('udp', 'kshell'), ('udp', 'discard'), ('udp', 'systat'), ('udp', 'hostnames'), ('udp', 'csnet_ns'), ('udp', 'netbios_ns'), ('udp', 'netbios_ssn'), ('udp', 'netbios_dgm'), ('udp', 'bgp'), ('udp', 'Z39_50'), ('udp', 'pm_dump'), ('icmp', 'http_443'), ('icmp', 'printer'), ('icmp', 'courier'), ('icmp', 'kshell'), ('icmp', 'discard'), ('icmp', 'systat'), ('icmp', 'hostnames'), ('icmp', 'csnet_ns'), ('icmp', 'netbios_ns'), ('icmp', 'netbios_ssn'), ('icmp', 'netbios_dgm'), ('icmp', 'bgp'), ('icmp', 'Z39_50'), ('icmp', 'pm_dump'), ('udp', 'tim_i'), ('icmp', 'tftp_u'), ('tcp', 'domain_u'), ('tcp', 'ntp_u'), ('tcp', 'ecr_i'), ('tcp', 'tftp_u'), ('tcp', 'tim_i'), ('udp', 'finger'), ('icmp', 'finger'), ('udp', 'telnet'), ('udp', 'ftp'), ('icmp', 'telnet'), ('icmp', 'ftp'), ('udp', 'eco_i'), ('udp', 'rje'), ('icmp', 'other'), ('icmp', 'private'), ('icmp', 'rje'), ('udp', 'remote_job'), ('udp', 'name'), ('udp', 'domain'), ('udp', 'login'), ('udp', 'daytime'), ('udp', 'nntp'), ('udp', 'shell'), ('icmp', 'remote_job'), ('icmp', 'name'), ('icmp', 'domain'), ('icmp', 'login'), ('icmp', 'daytime'), ('icmp', 'nntp'), ('icmp', 'shell'), ('udp', 'nnsp'), ('udp', 'exec'), ('udp', 'efs'), ('udp', 'uucp'), ('udp', 'klogin'), ('udp', 'echo'), ('udp', 'supdup'), ('udp', 'iso_tsap'), ('udp', 'pop_2'), ('udp', 'sunrpc'), ('udp', 'uucp_path'), ('udp', 'sql_net'), ('udp', 'vmnet'), ('udp', 'ldap'), ('udp', 'netstat'), ('udp', 'urh_i'), ('udp', 'X11'), ('udp', 'urp_i'), ('icmp', 'nnsp'), ('icmp', 'exec'), ('icmp', 'efs'), ('icmp', 'uucp'), ('icmp', 'klogin'), ('icmp', 'echo'), ('icmp', 'supdup'), ('icmp', 'iso_tsap'), ('icmp', 'pop_2'), ('icmp', 'sunrpc'), ('icmp', 'uucp_path'), ('icmp', 'sql_net'), ('icmp', 'vmnet'), ('icmp', 'ldap'), ('icmp', 'netstat'), ('icmp', 'X11'), ('udp', 'red_i')]\n"
     ]
    }
   ],
   "source": [
    "print(protocols.cartesian(services).subtract(combinations).collect())"
   ]
  },
  {
   "cell_type": "code",
   "execution_count": 17,
   "metadata": {
    "collapsed": true
   },
   "outputs": [],
   "source": [
    "sc.stop()"
   ]
  },
  {
   "cell_type": "code",
   "execution_count": null,
   "metadata": {
    "collapsed": true
   },
   "outputs": [],
   "source": []
  }
 ],
 "metadata": {
  "kernelspec": {
   "display_name": "Python 3",
   "language": "python",
   "name": "python3"
  },
  "language_info": {
   "codemirror_mode": {
    "name": "ipython",
    "version": 3
   },
   "file_extension": ".py",
   "mimetype": "text/x-python",
   "name": "python",
   "nbconvert_exporter": "python",
   "pygments_lexer": "ipython3",
   "version": "3.6.3"
  }
 },
 "nbformat": 4,
 "nbformat_minor": 2
}
