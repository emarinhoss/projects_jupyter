{
 "cells": [
  {
   "cell_type": "markdown",
   "metadata": {},
   "source": [
    "# How good is our model?\n",
    "\n",
    "### Classification metrics\n",
    "* Measuring model performance with accuracy\n",
    "    - Fraction of correctly classified samples\n",
    "    - Not always a useful metric\n",
    "\n",
    "### Class imbalance example: Emails\n",
    "\n",
    "* Spam classification\n",
    "    - 99% of emails are real; 1% of emails are spam\n",
    "* Could build a classifier that predicts ALL emails as real\n",
    "    - 99% accurate!\n",
    "    - But horrible at actually classifying spam\n",
    "    - Fails at its original purpose\n",
    "* Need more nuanced metrics\n",
    "\n",
    "### Diagnosing classification predictions\n",
    "* Confusion Matrix\n",
    "![Alt](./figures/confusion_matrix_2.png \"Confusion Matrix\")\n",
    "* Accuracy: \n",
    "$$\\frac{t_p+t_n}{t_p+t_n+f_p+f_n}$$\n",
    "\n",
    "### Metrix from the confusion matrix\n",
    "* Precision\n",
    "$$\\frac{t_p}{t_p+fp} $$\n",
    "* Recall\n",
    "$$\\frac{t_p}{t_p+fn} $$\n",
    "* F1 score\n",
    "$$2\\frac{precision\\times recall}{precision+recall} $$\n",
    "\n",
    "* High precision: Not many real emails predicted as spam\n",
    "* High recall: Predicted most spam emails correctly"
   ]
  },
  {
   "cell_type": "code",
   "execution_count": 1,
   "metadata": {
    "collapsed": false
   },
   "outputs": [
    {
     "ename": "IndentationError",
     "evalue": "unexpected indent (<ipython-input-1-d19e7152ac58>, line 4)",
     "output_type": "error",
     "traceback": [
      "\u001b[0;36m  File \u001b[0;32m\"<ipython-input-1-d19e7152ac58>\"\u001b[0;36m, line \u001b[0;32m4\u001b[0m\n\u001b[0;31m    X_train, X_test, y_train, y_test = train_test_split(X, y, test_size=0.4, random_state=42)\u001b[0m\n\u001b[0m    ^\u001b[0m\n\u001b[0;31mIndentationError\u001b[0m\u001b[0;31m:\u001b[0m unexpected indent\n"
     ]
    }
   ],
   "source": [
    "from sklearn.metrics import classification_report\n",
    "from sklearn.metrics import confusion_matrix\n",
    "knn = KNeighborsClassifier(n_neighbors=8)\n",
    " X_train, X_test, y_train, y_test = train_test_split(X, y, test_size=0.4, random_state=42)\n",
    "knn.fit(X_train, y_train)\n",
    "y_pred = knn.predict(X_test)"
   ]
  },
  {
   "cell_type": "code",
   "execution_count": null,
   "metadata": {
    "collapsed": true
   },
   "outputs": [],
   "source": []
  }
 ],
 "metadata": {
  "kernelspec": {
   "display_name": "Python 2",
   "language": "python",
   "name": "python2"
  },
  "language_info": {
   "codemirror_mode": {
    "name": "ipython",
    "version": 2
   },
   "file_extension": ".py",
   "mimetype": "text/x-python",
   "name": "python",
   "nbconvert_exporter": "python",
   "pygments_lexer": "ipython2",
   "version": "2.7.6"
  }
 },
 "nbformat": 4,
 "nbformat_minor": 0
}
