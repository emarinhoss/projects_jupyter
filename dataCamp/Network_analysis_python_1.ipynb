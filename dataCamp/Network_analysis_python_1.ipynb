{
 "cells": [
  {
   "cell_type": "markdown",
   "metadata": {},
   "source": [
    "# Network Analysis in python (part 1)\n",
    "\n",
    "#### Networks!\n",
    "\n",
    "* Examples:\n",
    "    * Social\n",
    "    * Transportation\n",
    " \n",
    "* Model relationships between entities\n",
    "\n",
    "* Insights:\n",
    "    * Important entities: influencers in social network\n",
    "    * Pathfinding: most efficient transport path\n",
    "    * Clustering: finding communities"
   ]
  },
  {
   "cell_type": "code",
   "execution_count": 1,
   "metadata": {
    "collapsed": false
   },
   "outputs": [
    {
     "data": {
      "text/plain": [
       "NodeView((1, 2, 3))"
      ]
     },
     "execution_count": 1,
     "metadata": {},
     "output_type": "execute_result"
    }
   ],
   "source": [
    "import networkx as nx\n",
    "G = nx.Graph()\n",
    "G.add_nodes_from([1, 2, 3])\n",
    "G.nodes()"
   ]
  },
  {
   "cell_type": "code",
   "execution_count": 2,
   "metadata": {
    "collapsed": false
   },
   "outputs": [
    {
     "data": {
      "text/plain": [
       "EdgeView([(1, 2)])"
      ]
     },
     "execution_count": 2,
     "metadata": {},
     "output_type": "execute_result"
    }
   ],
   "source": [
    "G.add_edge(1, 2)\n",
    "G.edges()"
   ]
  },
  {
   "cell_type": "code",
   "execution_count": 3,
   "metadata": {
    "collapsed": false
   },
   "outputs": [
    {
     "data": {
      "text/plain": [
       "NodeDataView({1: {'label': 'blue'}, 2: {}, 3: {}})"
      ]
     },
     "execution_count": 3,
     "metadata": {},
     "output_type": "execute_result"
    }
   ],
   "source": [
    "G.node[1]['label'] = 'blue'\n",
    "G.nodes(data=True)"
   ]
  },
  {
   "cell_type": "code",
   "execution_count": 4,
   "metadata": {
    "collapsed": false
   },
   "outputs": [
    {
     "name": "stderr",
     "output_type": "stream",
     "text": [
      "/usr/lib/pymodules/python2.7/matplotlib/collections.py:608: FutureWarning: elementwise comparison failed; returning scalar instead, but in the future will perform elementwise comparison\n",
      "  if self._edgecolors_original != 'face':\n",
      "/usr/lib/pymodules/python2.7/matplotlib/collections.py:548: FutureWarning: elementwise comparison failed; returning scalar instead, but in the future will perform elementwise comparison\n",
      "  if self._edgecolors == 'face':\n"
     ]
    },
    {
     "data": {
      "image/png": "[encoded data removed]",
      "text/plain": [
       "<matplotlib.figure.Figure at 0x7ff2dc17fc90>"
      ]
     },
     "metadata": {},
     "output_type": "display_data"
    }
   ],
   "source": [
    "import matplotlib.pyplot as plt\n",
    "%matplotlib inline\n",
    "\n",
    "nx.draw(G)"
   ]
  },
  {
   "cell_type": "markdown",
   "metadata": {},
   "source": [
    "#### Example: Queries on a graph\n",
    "\n",
    "Now that you know some basic properties of the graph and have practiced using NetworkX's drawing facilities to visualize components of it, it's time to explore how you can query it for nodes and edges. Specifically, you're going to look for \"nodes of interest\" and \"edges of interest\". To achieve this, you'll make use of the .nodes() and .edges() methods that Eric went over in the video. The .nodes() method returns a list of nodes, while the .edges() method returns a list of tuples, in which each tuple shows the nodes that are present on that edge. Recall that passing in the keyword argument data=True in these methods retrieves the corresponding metadata associated with the nodes and edges as well.\n",
    "\n",
    "You'll write list comprehensions to effectively build these queries in one line. For a refresher on list comprehensions, refer to Part 2 of DataCamp's Python Data Science Toolbox course. Here's the recipe for a list comprehension:\n",
    "\n",
    "[ output expression __for__ iterator variable __in__ iterable __if__ predicate expression ].\n",
    "\n",
    "You have to fill in the _iterable_ and the _predicate expression_. Feel free to prototype your answer by exploring the graph in the IPython Shell before submitting your solution.\n",
    "\n",
    "```python\n",
    "# Use a list comprehension to get the nodes of interest: noi\n",
    "noi = [n for n, d in T.nodes(data=True) if d['occupation'] == 'scientist']\n",
    "\n",
    "# Use a list comprehension to get the edges of interest: eoi\n",
    "eoi = [(u, v) for u, v, d in T.edges(data=True) if d['date'] < date(2010, 1, 1)]\n",
    "```"
   ]
  },
  {
   "cell_type": "markdown",
   "metadata": {},
   "source": [
    "#### Types of graphs\n",
    "\n",
    "* Undirected graphs (Facebook social graph)\n",
    "    * O ----- O"
   ]
  },
  {
   "cell_type": "code",
   "execution_count": 5,
   "metadata": {
    "collapsed": false
   },
   "outputs": [
    {
     "data": {
      "text/plain": [
       "networkx.classes.graph.Graph"
      ]
     },
     "execution_count": 5,
     "metadata": {},
     "output_type": "execute_result"
    }
   ],
   "source": [
    "type(G)"
   ]
  },
  {
   "cell_type": "markdown",
   "metadata": {},
   "source": [
    "* Directed graphs (Directed: Twi er social graph)\n",
    "    * O -----> O"
   ]
  },
  {
   "cell_type": "code",
   "execution_count": 6,
   "metadata": {
    "collapsed": false
   },
   "outputs": [
    {
     "data": {
      "text/plain": [
       "networkx.classes.digraph.DiGraph"
      ]
     },
     "execution_count": 6,
     "metadata": {},
     "output_type": "execute_result"
    }
   ],
   "source": [
    "D = nx.DiGraph()\n",
    "type(D)"
   ]
  },
  {
   "cell_type": "markdown",
   "metadata": {},
   "source": [
    "* Multi(Di)Graph: Trip records between bike sharing stations\n",
    "    * O =====> O"
   ]
  },
  {
   "cell_type": "code",
   "execution_count": 7,
   "metadata": {
    "collapsed": false
   },
   "outputs": [
    {
     "data": {
      "text/plain": [
       "networkx.classes.multigraph.MultiGraph"
      ]
     },
     "execution_count": 7,
     "metadata": {},
     "output_type": "execute_result"
    }
   ],
   "source": [
    "M = nx.MultiGraph()\n",
    "type(M)"
   ]
  },
  {
   "cell_type": "code",
   "execution_count": 8,
   "metadata": {
    "collapsed": false
   },
   "outputs": [
    {
     "data": {
      "text/plain": [
       "networkx.classes.multidigraph.MultiDiGraph"
      ]
     },
     "execution_count": 8,
     "metadata": {},
     "output_type": "execute_result"
    }
   ],
   "source": [
    "MD = nx.MultiDiGraph()\n",
    "type(MD)"
   ]
  },
  {
   "cell_type": "markdown",
   "metadata": {},
   "source": [
    "__Edges can contain weights__\n",
    "\n",
    "* Self-loops: Nodes that are connected to themselves"
   ]
  },
  {
   "cell_type": "markdown",
   "metadata": {},
   "source": [
    "#### Example: Specifying a weight on edges\n",
    "\n",
    "Weights can be added to edges in a graph, typically indicating the \"strength\" of an edge. In NetworkX, the weight is indicated by the 'weight' key in the metadata dictionary.\n",
    "\n",
    "```python\n",
    "# Set the 'weight' attribute of the edge between node 1 and 10 of T to be equal to 2\n",
    "T.edge[1][10]['weight'] = 2\n",
    "\n",
    "# Iterate over all the edges (with metadata)\n",
    "# Set the weight of every edge involving node 293 to be equal to 1.1\n",
    "for u, v, d in T.edges(data=True):\n",
    "\n",
    "    # Check if node 293 is involved\n",
    "    if 293 in [u, v]:\n",
    "    \n",
    "        # Set the weight to 1.1\n",
    "        T.edge[u][v]['weight'] = 1.1\n",
    "```"
   ]
  },
  {
   "cell_type": "markdown",
   "metadata": {},
   "source": [
    "#### Example: Checking whether there are self-loops in the graph\n",
    "\n",
    "NetworkX also allows edges that begin and end on the same node; while this would be non-intuitive for a social network graph, it is useful to model data such as trip networks, in which individuals begin at one location and end in another.\n",
    "\n",
    "It is useful to check for this before proceeding with further analyses, and NetworkX graphs provide a method for this purpose: __.number_of_selfloops()__.\n",
    "\n",
    "In this exercise as well as later ones, you'll find the __assert__ statement useful. An __assert__-ions checks whether the statement placed after it evaluates to True, otherwise it will return an AssertionError.\n",
    "\n",
    "```python\n",
    "# Define find_selfloop_nodes()\n",
    "def find_selfloop_nodes(G):\n",
    "    \"\"\"\n",
    "    Finds all nodes that have self-loops in the graph G.\n",
    "    \"\"\"\n",
    "    nodes_in_selfloops = []\n",
    "    \n",
    "    # Iterate over all the edges of G\n",
    "    for u, v in G.edges():\n",
    "    \n",
    "    # Check if node u and node v are the same\n",
    "        if u==v:\n",
    "        \n",
    "            # Append node u to nodes_in_selfloops\n",
    "            nodes_in_selfloops.append(u)\n",
    "            \n",
    "    return nodes_in_selfloops\n",
    "\n",
    "# Check whether number of self loops equals the number of nodes in self loops\n",
    "assert T.number_of_selfloops() == len(find_selfloop_nodes(T))\n",
    "```"
   ]
  },
  {
   "cell_type": "markdown",
   "metadata": {},
   "source": [
    "#### Visualizing networks\n",
    "\n",
    "* Matrix plots\n",
    "* Arc plots\n",
    "* Circos plots\n",
    "\n",
    "```python\n",
    "import nxviz as nv\n",
    "ap = nv.ArcPlot(G)\n",
    "ap.draw()\n",
    "```\n",
    "\n",
    "#### Example: Visualizing using Matrix plots\n",
    "\n",
    "It is time to try your first \"fancy\" graph visualization method: a matrix plot. To do this, __nxviz__ provides a __MatrixPlot__ object.\n",
    "\n",
    "nxviz is a package for visualizing graphs in a rational fashion. Under the hood, the MatrixPlot utilizes __nx.to_numpy_matrix(G)__, which returns the matrix form of the graph. Here, each node is one column and one row, and an edge between the two nodes is indicated by the value 1. In doing so, however, only the _weight metadata is preserved_; all other metadata is lost, as you'll verify using an assert statement.\n",
    "\n",
    "A corresponding __nx.from_numpy_matrix(A)__ allows one to quickly create a graph from a NumPy matrix. The default graph type is Graph(); if you want to make it a DiGraph(), that has to be specified using the create_using keyword argument, e.g. (__nx.from_numpy_matrix(A, create_using=nx.DiGraph)__).\n",
    "\n",
    "```python\n",
    "# Import nxviz\n",
    "import nxviz as nv\n",
    "\n",
    "# Create the MatrixPlot object: m\n",
    "m = nv.MatrixPlot(T)\n",
    "\n",
    "# Draw m to the screen\n",
    "m.draw()\n",
    "\n",
    "# Display the plot\n",
    "plt.show()\n",
    "\n",
    "# Convert T to a matrix format: A\n",
    "A = nx.to_numpy_matrix(T)\n",
    "\n",
    "# Convert A back to the NetworkX form as a directed graph: T_conv\n",
    "T_conv = nx.from_numpy_matrix(A, create_using=nx.DiGraph())\n",
    "\n",
    "# Check that the `category` metadata field is lost from each node\n",
    "for n, d in T_conv.nodes(data=True):\n",
    "    assert 'category' not in d.keys()\n",
    "```\n",
    "\n",
    "#### Example: Visualizing using Circos plots\n",
    "\n",
    "Circos plots are a rational, non-cluttered way of visualizing graph data, in which nodes are ordered around the circumference in some fashion, and the edges are drawn within the circle that results, giving a beautiful as well as informative visualization about the structure of the network.\n",
    "\n",
    "```python\n",
    "# Import necessary modules\n",
    "import matplotlib.pyplot as plt\n",
    "from nxviz import CircosPlot\n",
    "\n",
    "# Create the CircosPlot object: c\n",
    "c = CircosPlot(T)\n",
    "\n",
    "# Draw c to the screen\n",
    "c.draw()\n",
    "\n",
    "# Display the plot\n",
    "plt.show()\n",
    "```"
   ]
  },
  {
   "cell_type": "markdown",
   "metadata": {
    "collapsed": false
   },
   "source": [
    "#### Example: Visualizing using Arc plots\n",
    "\n",
    "Following on what you've learned about the nxviz API, now try making an ArcPlot of the network. Two keyword arguments that you will try here are __node_order='keyX'__ and __node_color='keyX'__, in which you specify a key in the node metadata dictionary to color and order the nodes by.\n",
    "\n",
    "```python\n",
    "# Import necessary modules\n",
    "import matplotlib.pyplot as plt\n",
    "from nxviz import ArcPlot\n",
    "\n",
    "# Create the un-customized ArcPlot object: a\n",
    "a = ArcPlot(T)\n",
    "\n",
    "# Draw a to the screen\n",
    "a.draw()\n",
    "\n",
    "# Display the plot\n",
    "plt.show()\n",
    "\n",
    "# Create the customized ArcPlot object: a2\n",
    "a2 = ArcPlot(T,node_order='category', node_color='category')\n",
    "\n",
    "# Draw a2 to the screen\n",
    "a2.draw()\n",
    "\n",
    "# Display the plot\n",
    "plt.show()\n",
    "```"
   ]
  },
  {
   "cell_type": "markdown",
   "metadata": {
    "collapsed": true
   },
   "source": [
    "## Degree Centrality\n",
    "\n",
    "#### Important nodes\n",
    "\n",
    "* Which nodes are important?\n",
    "    * Degree centrality\n",
    "    * Betweenness centrality\n",
    "    \n",
    "* Which center note might be important?\n",
    "\n",
    "#### Degree centrality\n",
    "\n",
    "(number of neighbors I have) / (number of neighbors I could possible have)\n",
    "\n",
    "* Examples of nodes with degree centrality:\n",
    "    * Twiter broadcasters\n",
    "    * Airport transportation hubs\n",
    "    * Disease super-spreaders\n",
    "\n",
    "#### Number of neighbors\n",
    "```python\n",
    "G.edges()\n",
    "    [(1, 2), (1, 3), (1, 4), (1, 5), (1, 6), (1, 7), (1, 8),(1, 9)]\n",
    "\n",
    "G.neighbors(1)\n",
    "    [2, 3, 4, 5, 6, 7, 8, 9]\n",
    "\n",
    "G.neighbors(8)\n",
    "    [1]\n",
    "\n",
    "G.neighbors(10)\n",
    "......\n",
    "NetworkXError: The node 10 is not in the graph.\n",
    "\n",
    "nx.degree_centrality(G)\n",
    "    {1: 1.0,\n",
    "     2: 0.125,\n",
    "     3: 0.125,\n",
    "     4: 0.125,\n",
    "     5: 0.125,\n",
    "     6: 0.125,\n",
    "     7: 0.125,\n",
    "     8: 0.125,\n",
    "     9: 0.125}\n",
    "```"
   ]
  },
  {
   "cell_type": "markdown",
   "metadata": {},
   "source": [
    "#### Example: Compute number of neighbors for each node\n",
    "\n",
    "How do you evaluate whether a node is an important one or not? There are a few ways to do so, and here, you're going to look at one metric: the number of neighbors that a node has.\n",
    "\n",
    "Every NetworkX graph G exposes a .neighbors(n) method that returns a list of nodes that are the neighbors of the node n.\n",
    "\n",
    "```python\n",
    "# Define nodes_with_m_nbrs()\n",
    "def nodes_with_m_nbrs(G, m):\n",
    "    \"\"\"\n",
    "    Returns all nodes in graph G that have m neighbors.\n",
    "    \"\"\"\n",
    "    nodes = set()\n",
    "    \n",
    "    # Iterate over all nodes in G\n",
    "    for n in G.nodes():\n",
    "    \n",
    "        # Check if the number of neighbors of n matches m\n",
    "        if len(G.neighbors(n)) == m:\n",
    "        \n",
    "            # Add the node n to the set\n",
    "            nodes.add(n)\n",
    "            \n",
    "    # Return the nodes with m neighbors\n",
    "    return nodes\n",
    "\n",
    "# Compute and print all nodes in T that have 6 neighbors\n",
    "six_nbrs = nodes_with_m_nbrs(T, 6)\n",
    "print(six_nbrs)\n",
    "```"
   ]
  },
  {
   "cell_type": "markdown",
   "metadata": {},
   "source": [
    "__The number of neighbors that a node has is called its \"degree\"__.\n",
    "\n",
    "```python\n",
    "# Compute the degree of every node: degrees\n",
    "degrees = [len(T.neighbors(n)) for n in T.nodes()]\n",
    "\n",
    "# Print the degrees\n",
    "print(degrees)\n",
    "```"
   ]
  },
  {
   "cell_type": "markdown",
   "metadata": {},
   "source": [
    "#### Example: Degree centrality distribution\n",
    "\n",
    "The degree centrality is the number of neighbors divided by all possible neighbors that it could have. Depending on whether self-loops are allowed, the set of possible neighbors a node could have could also include the node itself.\n",
    "\n",
    "The nx.degree_centrality(G) function returns a dictionary, where the keys are the nodes and the values are their degree centrality values.\n",
    "\n",
    "```python\n",
    "# Import matplotlib.pyplot\n",
    "import matplotlib.pyplot as plt\n",
    "\n",
    "# Compute the degree centrality of the Twitter network: deg_cent\n",
    "deg_cent = nx.degree_centrality(T)\n",
    "\n",
    "# Plot a histogram of the degree centrality distribution of the graph.\n",
    "plt.figure()\n",
    "plt.hist(list(deg_cent.values()))\n",
    "plt.show()\n",
    "\n",
    "# Plot a histogram of the degree distribution of the graph\n",
    "plt.figure()\n",
    "plt.hist(degrees)\n",
    "plt.show()\n",
    "\n",
    "# Plot a scatter plot of the centrality distribution and the degree distribution\n",
    "plt.figure()\n",
    "plt.scatter(degrees, list(deg_cent.values()))\n",
    "plt.show()\n",
    "```"
   ]
  },
  {
   "cell_type": "markdown",
   "metadata": {},
   "source": [
    "#### Finding paths\n",
    "* Pathfinding is important for\n",
    "    * Optimization: e.g. shortest transport paths\n",
    "    * Modeling: e.g. disease spread, information passing\n",
    "* Algorithm: Breadth-first search\n",
    "\n",
    "__Breadth-first search (BFS)__\n",
    "* What is the shortest path between two nodes?\n",
    "\n",
    "```python\n",
    "G\n",
    "    <networkx.classes.graph.Graph at 0x10cc08828>\n",
    "    \n",
    "len(G.edges())\n",
    "    57\n",
    "    \n",
    "len(G.nodes())\n",
    "    20\n",
    "    \n",
    "G.neighbors(1)\n",
    "    [10, 5, 14, 7]\n",
    "    \n",
    "G.neighbors(10)\n",
    "    [1, 19, 5, 17, 8, 9, 13, 14]\n",
    "```"
   ]
  },
  {
   "cell_type": "markdown",
   "metadata": {},
   "source": [
    "#### Example: Shortest Path \n",
    "\n",
    "You can leverage what you know about finding neighbors to try finding paths in a network. One algorithm for path-finding between two nodes is the \"breadth-first search\" (BFS) algorithm. In a BFS algorithm, you start from a particular node and iteratively search through its neighbors and neighbors' neighbors until you find the destination node.\n",
    "\n",
    "Pathfinding algorithms are important because they provide another way of assessing node importance.\n",
    "\n",
    "```python\n",
    "def path_exists(G, node1, node2):\n",
    "    \"\"\"\n",
    "    This function checks whether a path exists between two nodes (node1, node2) in graph G.\n",
    "    \"\"\"\n",
    "    visited_nodes = set()\n",
    "    \n",
    "    # Initialize the queue of cells to visit with the first node: queue\n",
    "    queue = [node1]\n",
    "    \n",
    "    # Iterate over the nodes in the queue\n",
    "    for node in queue:\n",
    "    \n",
    "        # Get neighbors of the node\n",
    "        neighbors = G.neighbors(node) \n",
    "        \n",
    "        # Check to see if the destination node is in the set of neighbors\n",
    "        if node2 in neighbors:\n",
    "            print('Path exists between nodes {0} and {1}'.format(node1, node2))\n",
    "            return True\n",
    "            break\n",
    "        \n",
    "        else:\n",
    "            # Add current node to visited nodes\n",
    "            visited_nodes.add(node)\n",
    "            \n",
    "            # Add neighbors of current node that have not yet been visited\n",
    "            queue.extend([n for n in neighbors if n not in visited_nodes])\n",
    "       \n",
    "       # Check to see if the final element of the queue has been reached\n",
    "       if node == queue[-1]:\n",
    "            print('Path does not exist between nodes {0} and {1}'.format(node1, node2))\n",
    "\n",
    "            # Place the appropriate return statement\n",
    "            return False\n",
    "```"
   ]
  },
  {
   "cell_type": "markdown",
   "metadata": {},
   "source": [
    "### Betweenness centrality\n",
    "\n",
    "* All shortest paths\n",
    "    * Set of paths\n",
    "    * Each path is shortest path between a given pair of nodes\n",
    "    * Done for all node pairs\n",
    "    \n",
    "#### Betweenness centrality\n",
    "\n",
    "(number of shortest pathc through node) / (all possible shortest paths)\n",
    "\n",
    "* Application:\n",
    "    * Bridges between liberal and conservative leaning Twitter users\n",
    "    * Critical information transfer links\n",
    "    \n",
    "```python\n",
    "G = nx.barbell_graph(m1=5, m2=1)\n",
    "nx.betweenness_centrality(G)\n",
    "    {0: 0.0,\n",
    "     1: 0.0,\n",
    "     2: 0.0,\n",
    "     3: 0.0,\n",
    "     4: 0.5333333333333333,\n",
    "     5: 0.5555555555555556,\n",
    "     6: 0.5333333333333333,\n",
    "     7: 0.0,\n",
    "     8: 0.0,\n",
    "     9: 0.0,\n",
    "     10: 0.0}\n",
    "```"
   ]
  },
  {
   "cell_type": "markdown",
   "metadata": {},
   "source": [
    "#### Example: NetworkX betweenness centrality on a social network\n",
    "\n",
    "Betweenness centrality is a node importance metric that uses information about the shortest paths in a network. It is defined as the fraction of all possible shortest paths between any pair of nodes that pass through the node.\n",
    "\n",
    "NetworkX provides the nx.betweenness_centrality(G) function for computing the betweenness centrality of every node in a graph, and it returns a dictionary where the keys are the nodes and the values are their betweenness centrality measures.\n",
    "\n",
    "```python\n",
    "# Compute the betweenness centrality of T: bet_cen\n",
    "bet_cen = nx.betweenness_centrality(T)\n",
    "\n",
    "# Compute the degree centrality of T: deg_cen\n",
    "deg_cen = nx.degree_centrality(T)\n",
    "\n",
    "# Create a scatter plot of betweenness centrality and degree centrality\n",
    "plt.scatter(list(bet_cen.values()), list(deg_cen.values()))\n",
    "\n",
    "# Display the plot\n",
    "plt.show()\n",
    "```"
   ]
  },
  {
   "cell_type": "markdown",
   "metadata": {},
   "source": [
    "#### Example: Deep dive - Twitter network\n",
    "\n",
    "You're going to now take a deep dive into a Twitter network, which will help reinforce what you've learned earlier. First, you're going to find the nodes that can broadcast messages very efficiently to lots of people one degree of separation away.\n",
    "\n",
    "```python\n",
    "# Define find_nodes_with_highest_deg_cent()\n",
    "def find_nodes_with_highest_deg_cent(G):\n",
    "\n",
    "    # Compute the degree centrality of G: deg_cent\n",
    "    deg_cent = nx.degree_centrality(G)\n",
    "    \n",
    "    # Compute the maximum degree centrality: max_dc\n",
    "    max_dc = max(list(deg_cent.values()))\n",
    "    \n",
    "    nodes = set()\n",
    "    \n",
    "    # Iterate over the degree centrality dictionary\n",
    "    for k, v in deg_cent.items():\n",
    "    \n",
    "        # Check if the current value has the maximum degree centrality\n",
    "        if v == max_dc:\n",
    "        \n",
    "            # Add the current node to the set of nodes\n",
    "            nodes.add(k)\n",
    "            \n",
    "    return nodes\n",
    "    \n",
    "# Find the node(s) that has the highest degree centrality in T: top_dc\n",
    "top_dc = find_nodes_with_highest_deg_cent(T)\n",
    "print(top_dc)\n",
    "\n",
    "# Write the assertion statement\n",
    "for node in top_dc:\n",
    "    assert nx.degree_centrality(T)[node] == max(nx.degree_centrality(T).values())\n",
    "```\n",
    "\n",
    "\n",
    "_An analogous deep dive can be done on betweenness centrality._"
   ]
  },
  {
   "cell_type": "markdown",
   "metadata": {},
   "source": [
    "## Cliques & communities\n",
    "\n",
    "* Cliques\n",
    "    * Social cliques: tightly-knit groups\n",
    "    * Network cliques: completely connected graphs\n",
    "    * Simplest complex clique: a triangle\n",
    "    * Triangle applications: Friend recommendation systems\n",
    "    \n",
    "```python\n",
    "G\n",
    "    <networkx.classes.graph.Graph at 0x10c99ecf8>\n",
    "    \n",
    "from itertools import combinations\n",
    "for n1, n2 in combinations(G.nodes(), 2):\n",
    "print(n1, n2)\n",
    "```\n",
    "\n",
    "#### Identifying triangle relationships\n",
    "\n",
    "Now that you've learned about cliques, it's time to try leveraging what you know to find structures in a network. Triangles are what you'll go for first. We may be interested in triangles because they're the simplest complex clique. Let's write a few functions; these exercises will bring you through the fundamental logic behind network algorithms.\n",
    "\n",
    "In the Twitter network, each node has an 'occupation' label associated with it, in which the Twitter user's work occupation is divided into celebrity, politician and scientist. One potential application of triangle-finding algorithms is to find out whether users that have similar occupations are more likely to be in a clique with one another.\n",
    "\n",
    "```python\n",
    "\n",
    "from itertools import combinations\n",
    "\n",
    "# Define is_in_triangle() \n",
    "def is_in_triangle(G, n):\n",
    "    \"\"\"\n",
    "    Checks whether a node `n` in graph `G` is in a triangle relationship or not. \n",
    "    \n",
    "    Returns a boolean.\n",
    "    \"\"\"\n",
    "    in_triangle = False\n",
    "    \n",
    "    # Iterate over all possible triangle relationship combinations\n",
    "    for n1, n2 in combinations(G.neighbors(n), 2):\n",
    "    \n",
    "        # Check if an edge exists between n1 and n2\n",
    "        if G.has_edge(n1, n2):\n",
    "            in_triangle = True\n",
    "            break\n",
    "    return in_triangle\n",
    "    \n",
    "```\n",
    "\n",
    "#### Finding nodes involved in triangles\n",
    "\n",
    "NetworkX provides an API for counting the number of triangles that every node is involved in: nx.triangles(G). It returns a dictionary of nodes as the keys and number of triangles as the values."
   ]
  },
  {
   "cell_type": "code",
   "execution_count": null,
   "metadata": {
    "collapsed": true
   },
   "outputs": [],
   "source": []
  }
 ],
 "metadata": {
  "kernelspec": {
   "display_name": "Python 2",
   "language": "python",
   "name": "python2"
  },
  "language_info": {
   "codemirror_mode": {
    "name": "ipython",
    "version": 2
   },
   "file_extension": ".py",
   "mimetype": "text/x-python",
   "name": "python",
   "nbconvert_exporter": "python",
   "pygments_lexer": "ipython2",
   "version": "2.7.6"
  }
 },
 "nbformat": 4,
 "nbformat_minor": 0
}
