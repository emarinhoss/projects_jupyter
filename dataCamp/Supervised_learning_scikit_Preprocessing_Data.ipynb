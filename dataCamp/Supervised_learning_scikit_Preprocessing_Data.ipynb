{
 "cells": [
  {
   "cell_type": "markdown",
   "metadata": {},
   "source": [
    "# Preprocessing Data\n",
    "\n",
    "### Dealing with categorical features\n",
    "* Scikit-learn will not accept categorical features by default\n",
    "* Need to encode categorical features numerically\n",
    "* Convert to ‘dummy variables’\n",
    "    * 0: Observation was NOT that category\n",
    "    * 1: Observation was that category\n",
    "    \n",
    "### Dealing with categorical features in Python\n",
    "* scikit-learn: OneHotEncoder()\n",
    "* pandas: get_dummies()    "
   ]
  },
  {
   "cell_type": "code",
   "execution_count": 3,
   "metadata": {
    "collapsed": false
   },
   "outputs": [
    {
     "data": {
      "text/html": [
       "<div>\n",
       "<style scoped>\n",
       "    .dataframe tbody tr th:only-of-type {\n",
       "        vertical-align: middle;\n",
       "    }\n",
       "\n",
       "    .dataframe tbody tr th {\n",
       "        vertical-align: top;\n",
       "    }\n",
       "\n",
       "    .dataframe thead th {\n",
       "        text-align: right;\n",
       "    }\n",
       "</style>\n",
       "<table border=\"1\" class=\"dataframe\">\n",
       "  <thead>\n",
       "    <tr style=\"text-align: right;\">\n",
       "      <th></th>\n",
       "      <th>Model</th>\n",
       "      <th>MPG</th>\n",
       "      <th>Cylinders</th>\n",
       "      <th>Engine Disp</th>\n",
       "      <th>Horsepower</th>\n",
       "      <th>Weight</th>\n",
       "      <th>Accelerate</th>\n",
       "      <th>Year</th>\n",
       "      <th>Origin</th>\n",
       "    </tr>\n",
       "  </thead>\n",
       "  <tbody>\n",
       "    <tr>\n",
       "      <th>0</th>\n",
       "      <td>amc ambassador dpl</td>\n",
       "      <td>15.0</td>\n",
       "      <td>8</td>\n",
       "      <td>390.0</td>\n",
       "      <td>190</td>\n",
       "      <td>3850</td>\n",
       "      <td>8.5</td>\n",
       "      <td>70</td>\n",
       "      <td>American</td>\n",
       "    </tr>\n",
       "    <tr>\n",
       "      <th>1</th>\n",
       "      <td>amc gremlin</td>\n",
       "      <td>21.0</td>\n",
       "      <td>6</td>\n",
       "      <td>199.0</td>\n",
       "      <td>90</td>\n",
       "      <td>2648</td>\n",
       "      <td>15.0</td>\n",
       "      <td>70</td>\n",
       "      <td>American</td>\n",
       "    </tr>\n",
       "    <tr>\n",
       "      <th>2</th>\n",
       "      <td>amc hornet</td>\n",
       "      <td>18.0</td>\n",
       "      <td>6</td>\n",
       "      <td>199.0</td>\n",
       "      <td>97</td>\n",
       "      <td>2774</td>\n",
       "      <td>15.5</td>\n",
       "      <td>70</td>\n",
       "      <td>American</td>\n",
       "    </tr>\n",
       "    <tr>\n",
       "      <th>3</th>\n",
       "      <td>amc rebel sst</td>\n",
       "      <td>16.0</td>\n",
       "      <td>8</td>\n",
       "      <td>304.0</td>\n",
       "      <td>150</td>\n",
       "      <td>3433</td>\n",
       "      <td>12.0</td>\n",
       "      <td>70</td>\n",
       "      <td>American</td>\n",
       "    </tr>\n",
       "    <tr>\n",
       "      <th>4</th>\n",
       "      <td>buick estate wagon (sw)</td>\n",
       "      <td>14.0</td>\n",
       "      <td>8</td>\n",
       "      <td>455.0</td>\n",
       "      <td>225</td>\n",
       "      <td>3086</td>\n",
       "      <td>10.0</td>\n",
       "      <td>70</td>\n",
       "      <td>American</td>\n",
       "    </tr>\n",
       "  </tbody>\n",
       "</table>\n",
       "</div>"
      ],
      "text/plain": [
       "                     Model   MPG  Cylinders  Engine Disp  Horsepower  Weight  \\\n",
       "0       amc ambassador dpl  15.0          8        390.0         190    3850   \n",
       "1              amc gremlin  21.0          6        199.0          90    2648   \n",
       "2               amc hornet  18.0          6        199.0          97    2774   \n",
       "3            amc rebel sst  16.0          8        304.0         150    3433   \n",
       "4  buick estate wagon (sw)  14.0          8        455.0         225    3086   \n",
       "\n",
       "   Accelerate  Year    Origin  \n",
       "0         8.5    70  American  \n",
       "1        15.0    70  American  \n",
       "2        15.5    70  American  \n",
       "3        12.0    70  American  \n",
       "4        10.0    70  American  "
      ]
     },
     "execution_count": 3,
     "metadata": {},
     "output_type": "execute_result"
    }
   ],
   "source": [
    "import pandas as pd\n",
    "df = pd.read_csv('Auto.csv')\n",
    "names=['mpg',\n",
    "       'displacement',\n",
    "       'horsepower',\n",
    "       'weight',\n",
    "       'acceleration',\n",
    "       'origin']\n",
    "#df = df[names] # only get the names that are in the example used\n",
    "#df.dtypes\n",
    "df.head()"
   ]
  },
  {
   "cell_type": "code",
   "execution_count": 4,
   "metadata": {
    "collapsed": false
   },
   "outputs": [
    {
     "name": "stdout",
     "output_type": "stream",
     "text": [
      "    MPG  Cylinders  Engine Disp  Horsepower  Weight  Accelerate  Year  \\\n",
      "0  15.0          8        390.0         190    3850         8.5    70   \n",
      "1  21.0          6        199.0          90    2648        15.0    70   \n",
      "2  18.0          6        199.0          97    2774        15.5    70   \n",
      "3  16.0          8        304.0         150    3433        12.0    70   \n",
      "4  14.0          8        455.0         225    3086        10.0    70   \n",
      "\n",
      "   Origin_American  Origin_European  Origin_Japanese  \n",
      "0                1                0                0  \n",
      "1                1                0                0  \n",
      "2                1                0                0  \n",
      "3                1                0                0  \n",
      "4                1                0                0  \n"
     ]
    }
   ],
   "source": [
    "df_origin = pd.get_dummies(df.drop('Model', axis=1))\n",
    "print(df_origin.head())"
   ]
  },
  {
   "cell_type": "markdown",
   "metadata": {},
   "source": [
    "We will drop the _Origin_Japanese_ column since it gives redondent information (i.e. if it's not American or European it has to be Japanese)"
   ]
  },
  {
   "cell_type": "code",
   "execution_count": 5,
   "metadata": {
    "collapsed": false
   },
   "outputs": [
    {
     "name": "stdout",
     "output_type": "stream",
     "text": [
      "    MPG  Cylinders  Engine Disp  Horsepower  Weight  Accelerate  Year  \\\n",
      "0  15.0          8        390.0         190    3850         8.5    70   \n",
      "1  21.0          6        199.0          90    2648        15.0    70   \n",
      "2  18.0          6        199.0          97    2774        15.5    70   \n",
      "3  16.0          8        304.0         150    3433        12.0    70   \n",
      "4  14.0          8        455.0         225    3086        10.0    70   \n",
      "\n",
      "   Origin_American  Origin_European  \n",
      "0                1                0  \n",
      "1                1                0  \n",
      "2                1                0  \n",
      "3                1                0  \n",
      "4                1                0  \n"
     ]
    }
   ],
   "source": [
    "df_origin = df_origin.drop('Origin_Japanese', axis=1)\n",
    "print(df_origin.head())"
   ]
  },
  {
   "cell_type": "markdown",
   "metadata": {},
   "source": [
    "* mpg: Target Variable\n",
    "* Origin: Categorical Feature"
   ]
  },
  {
   "cell_type": "code",
   "execution_count": 6,
   "metadata": {
    "collapsed": false
   },
   "outputs": [],
   "source": [
    "X = df_origin[['Origin_American','Origin_European']].values # features"
   ]
  },
  {
   "cell_type": "code",
   "execution_count": 7,
   "metadata": {
    "collapsed": false
   },
   "outputs": [],
   "source": [
    "y = df_origin[['MPG']].values"
   ]
  },
  {
   "cell_type": "code",
   "execution_count": 8,
   "metadata": {
    "collapsed": false
   },
   "outputs": [
    {
     "data": {
      "text/plain": [
       "0.23074216114950263"
      ]
     },
     "execution_count": 8,
     "metadata": {},
     "output_type": "execute_result"
    }
   ],
   "source": [
    "from sklearn.model_selection import train_test_split\n",
    "from sklearn.linear_model import Ridge\n",
    "X_train, X_test, y_train, y_test = train_test_split(X, y, test_size=0.3, random_state=42)\n",
    "ridge = Ridge(alpha=0.5, normalize=True).fit(X_train,y_train)\n",
    "ridge.score(X_test, y_test)"
   ]
  },
  {
   "cell_type": "code",
   "execution_count": 12,
   "metadata": {
    "collapsed": false
   },
   "outputs": [
    {
     "data": {
      "text/plain": [
       "<matplotlib.axes.AxesSubplot at 0x7ffb93da5d90>"
      ]
     },
     "execution_count": 12,
     "metadata": {},
     "output_type": "execute_result"
    },
    {
     "data": {
      "image/png": "[encoded data removed]",
      "text/plain": [
       "<matplotlib.figure.Figure at 0x7ffb93db1c50>"
      ]
     },
     "metadata": {},
     "output_type": "display_data"
    }
   ],
   "source": [
    "import matplotlib.pyplot as plt\n",
    "%matplotlib inline\n",
    "# Create a boxplot of MPG per Origin\n",
    "df.boxplot('MPG', 'Origin', rot=60)\n",
    "# Show the plot\n",
    "# plt.show()"
   ]
  },
  {
   "cell_type": "markdown",
   "metadata": {},
   "source": [
    "## Handling missing data\n",
    "\n",
    "One way is to replace the missing data on each column with, for example, a _np.nan_ using _df.insulin.replace(0, np.nan, inplace=True)_. And then dropping all the rows that have NANs using _df.dropna()_. The downside of this method is the fact that a lot of data can be dropped.\n",
    "\n",
    "### Imputing missing data\n",
    "* Making an educated guess about the missing values\n",
    "    * Example: Using the mean of the non-missing entries\n",
    "\n",
    "__Option1:__\n",
    "``` python\n",
    "from sklearn.preprocessing import Imputer  \n",
    "imp = Imputer(missing_values='NaN', strategy='mean', axis=0)  \n",
    "imp.fit(X)  \n",
    "X = imp.transform(X)  \n",
    "```\n",
    "\n",
    "__Option 2:__  \n",
    "``` python\n",
    "from sklearn.pipeline import Pipeline  \n",
    "from sklearn.preprocessing import Imputer  \n",
    "imp = Imputer(missing_values='NaN', strategy='mean', axis=0)  \n",
    "logreg = LogisticRegression()  \n",
    "steps = [('imputation', imp),('logistic_regression', logreg)]  \n",
    "pipeline = Pipeline(steps)\n",
    "X_train, X_test, y_train, y_test = train_test_split(X, y, test_size=0.3, random_state=42)  \n",
    "pipeline.fit(X_train, y_train)  \n",
    "y_pred = pipeline.predict(X_test)  \n",
    "pipeline.score(X_test, y_test)  \n",
    "```\n",
    "\n",
    "The last step on a pipeline must me an estimator (classifier or regressior)."
   ]
  },
  {
   "cell_type": "markdown",
   "metadata": {},
   "source": [
    "## Exercise example\n",
    "\n",
    "### Drop missing values\n",
    "``` python\n",
    "# Convert '?' to NaN\n",
    "df[df == '?'] = np.nan\n",
    "\n",
    "# Print the number of NaNs\n",
    "print(df.isnull().sum())\n",
    "\n",
    "# Print shape of original DataFrame\n",
    "print(\"Shape of Original DataFrame: {}\".format(df.shape))\n",
    "\n",
    "# Drop missing values and print shape of new DataFrame\n",
    "df = df.dropna()\n",
    "\n",
    "# Print shape of new DataFrame\n",
    "print(\"Shape of DataFrame After Dropping All Rows with Missing Values: {}\".format(df.shape))\n",
    "```"
   ]
  },
  {
   "cell_type": "markdown",
   "metadata": {},
   "source": [
    "## Centering and Scaling Data\n",
    "\n",
    "### Why scale your data?\n",
    "* Many models use some form of distance to inform them\n",
    "* Features on larger scales can unduly influence the model\n",
    "* Example: k-NN uses distance explicitly when making predictions\n",
    "* We want features to be on a similar scale\n",
    "* Normalizing (or scaling and centering)\n",
    "\n",
    "### Ways to normalize your data\n",
    "* Standardization: Subtract the mean and divide by variance\n",
    "    * All features are centered around zero and have variance one\n",
    "* Can also subtract the minimum and divide by the range\n",
    "    * Minimum zero and maximum one\n",
    "* Can also normalize so the data ranges from -1 to +1\n",
    "* See scikit-learn docs for further details\n",
    "\n",
    "``` python\n",
    "from sklearn.preprocessing import scale\n",
    "In [3]: X_scaled = scale(X)\n",
    "In [4]: np.mean(X), np.std(X)\n",
    "Out[4]: (8.13421922452, 16.7265339794)\n",
    "In [5]: np.mean(X_scaled), np.std(X_scaled)\n",
    "Out[5]: (2.54662653149e-15, 1.0)\n",
    "```\n",
    "\n",
    "### Scaling in a pipeline\n",
    "``` python \n",
    "from sklearn.preprocessing import StandardScaler\n",
    "In [7]: steps = [('scaler', StandardScaler()),('knn', KNeighborsClassifier())]\n",
    "In [8]: pipeline = Pipeline(steps)\n",
    "In [9]: X_train, X_test, y_train, y_test = train_test_split(X, y, test_size=0.2, random_state=21)\n",
    "In [10]: knn_scaled = pipeline.fit(X_train, y_train)\n",
    "In [11]: y_pred = pipeline.predict(X_test)\n",
    "In [12]: accuracy_score(y_test, y_pred)\n",
    "Out[12]: 0.956\n",
    "In [13]: knn_unscaled = KNeighborsClassifier().fit(X_train, y_train)\n",
    "In [14]: knn_unscaled.score(X_test, y_test)\n",
    "Out[14]: 0.928\n",
    "```\n",
    "\n",
    "### CV and scaling in a pipeline\n",
    "``` python \n",
    "In [14]: steps = [('scaler', StandardScaler()),(('knn', KNeighborsClassifier())]\n",
    "In [15]: pipeline = Pipeline(steps)\n",
    "In [16]: parameters = {knn__n_neighbors=np.arange(1, 50)}\n",
    "In [17]: X_train, X_test, y_train, y_test = train_test_split(X, y, test_size=0.2, random_state=21)\n",
    "In [18]: cv = GridSearchCV(pipeline, param_grid=parameters)\n",
    "In [19]: cv.fit(X_train, y_train)\n",
    "In [20]: y_pred = cv.predict(X_test)\n",
    "In [21]: print(cv.best_params_)\n",
    "In [22]: print(cv.score(X_test, y_test))\n",
    "In [23]: print(classification_report(y_test, y_pred))\n",
    "```"
   ]
  },
  {
   "cell_type": "code",
   "execution_count": null,
   "metadata": {
    "collapsed": true
   },
   "outputs": [],
   "source": []
  }
 ],
 "metadata": {
  "kernelspec": {
   "display_name": "Python 2",
   "language": "python",
   "name": "python2"
  },
  "language_info": {
   "codemirror_mode": {
    "name": "ipython",
    "version": 2
   },
   "file_extension": ".py",
   "mimetype": "text/x-python",
   "name": "python",
   "nbconvert_exporter": "python",
   "pygments_lexer": "ipython2",
   "version": "2.7.6"
  }
 },
 "nbformat": 4,
 "nbformat_minor": 0
}
