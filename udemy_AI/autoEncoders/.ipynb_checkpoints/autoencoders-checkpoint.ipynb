{
 "cells": [
  {
   "cell_type": "markdown",
   "metadata": {},
   "source": [
    "# Autoencoders\n",
    "\n",
    "**What we will learn in this section:**\n",
    "* Auto Encoders\n",
    "* Training of an Auto Encoder\n",
    "* Overcomplete Hidden Layers\n",
    "* Sparse Autoencoders\n",
    "    * [Chris McCormick, Deep Learning Tutorial – Sparse Autoencoder](http://mccormickml.com/2014/05/30/deep-learning-tutorial-sparse-autoencoder/)\n",
    "    * [Eric Wilkinson, Deep Learning: Sparse Autoencoders](http://www.ericlwilkinson.com/blog/2014/11/19/deep-learning-sparse-autoencoders)\n",
    "    * [Alireza Makhzani, 2014, k-Sparse Autoencoders](https://arxiv.org/pdf/1312.5663.pdf)\n",
    "* [Denoising Autoencoders](http://www.cs.toronto.edu/~larocheh/publications/icml-2008-denoising-autoencoders.pdf)\n",
    "* [Contractive Autoencoders](http://www.icml-2011.org/papers/455_icmlpaper.pdf)\n",
    "* [Stacked Autoencoders](http://www.jmlr.org/papers/volume11/vincent10a/vincent10a.pdf)\n",
    "* [Deep Autoencoders](https://www.cs.toronto.edu/~hinton/science.pdf)\n",
    "\n",
    "### What are autoencoders?\n",
    "\n",
    "\"Autoencoding\" is a data compression algorithm where the compression and decompression functions are \n",
    "1. **data-specific**, which means that they will only be able to compress data similar to what they have been trained on.\n",
    "2. **lossy**, the decompressed outputs will be degraded compared to the original inputs\n",
    "3. learned automatically from examples rather than engineered by a human\n",
    "\n",
    "**To build an autoencoder, you need three things: an encoding function, a decoding function, and a distance function between the amount of information loss between the compressed representation of your data and the decompressed representation (i.e. a \"loss\" function).**\n",
    "\n",
    "Visible input nodes ---Encoding--> Hiden Nodes ---Decoding---> Visible Output Nodes\n",
    "**with the aim of reproducing the inputs after reducing the system to its essential features**\n",
    "\n",
    "[Neural Networks Are Impressively Good At Compression\n",
    "by Malte Skarupke](https://probablydance.com/2016/04/30/neural-networks-are-impressively-good-at-compression/)\n",
    "\n",
    "### What are autoencoders good for?\n",
    "* Data denoising\n",
    "* Building recommender systems\n",
    "* Dimensionality reduction for data visualization (they can learn data projections that are more interesting than PCA or other basic techniques)\n",
    "* unsupervised learning\n",
    "\n",
    "### Training an Auto Encoder\n",
    "\n",
    "* **Step 1**: we start with an array where the lines (the observations) correspond to the users and the columns (the features) correspond to the movies. Each cell (u,i) contains the rating (1-5, 0 if no rating) of the movie i by the user u.\n",
    "* **Step 2**: the first user goes into the network. The input vector x contains all its ratings for all the movies\n",
    "* **Step 3**: the input vector x is encoded into a vector z of lower dimensions by a mpping function (e.g: sigmpid function): $z=f(Wx+b)$, where W is a matrix of input weights and b is the bias\n",
    "* **Step 4**: z is then decoded into the putput vector y of same dimensions as x, aiming to replicate the input vectos x\n",
    "* **Step 5**: the reconstrcuted error $d(x,y)=||x-y||$ is computed. The goal is to minimize it.\n",
    "* **Step 6**: back-propagation: from right to left, the error is back-propagated. The weights are updated according to how much they are responsible for the error. The learning rate decides by how much we update the weights.\n",
    "* **Step 7**: repeat steps 1-6 and update the weights after each observation (Reinforcement Learning). Or: repeat steps 1-6 but update the weights only after a batch of observations (Batch learning).\n",
    "* **Step 8**: when the whole training set passed through the ANN, that makes and epoch, redo more epochs\n",
    "\n",
    "[Building Autoencoders in Keras](https://blog.keras.io/building-autoencoders-in-keras.html)"
   ]
  },
  {
   "cell_type": "markdown",
   "metadata": {},
   "source": [
    "### Import all the libraries"
   ]
  },
  {
   "cell_type": "code",
   "execution_count": 1,
   "metadata": {},
   "outputs": [],
   "source": [
    "import numpy as np \n",
    "import pandas as pd\n",
    "import torch\n",
    "import torch.nn as nn\n",
    "import torch.nn.parallel\n",
    "import torch.optim as optim\n",
    "import torch.utils.data\n",
    "from torch.autograd import Variable"
   ]
  },
  {
   "cell_type": "markdown",
   "metadata": {},
   "source": [
    "### Import the dataset"
   ]
  },
  {
   "cell_type": "code",
   "execution_count": 2,
   "metadata": {},
   "outputs": [],
   "source": [
    "# columns are: movie ID, movie name, movie genre\n",
    "movies = pd.read_csv('../boltzmannMachine/Boltzmann_Machines/ml-1m/movies.dat', sep='::', \n",
    "                     header=None, engine='python', encoding='latin-1')\n",
    "\n",
    "#columns are: user ID, gender, age, code for occupation, zip code\n",
    "users = pd.read_csv('../boltzmannMachine/Boltzmann_Machines/ml-1m/users.dat', sep='::', \n",
    "                    header=None, engine='python', encoding='latin-1')\n",
    "\n",
    "# the columns are: user ID, movie ID, movie rating, timestamps of the rating(will be removed)\n",
    "ratings = pd.read_csv('../boltzmannMachine/Boltzmann_Machines/ml-1m/ratings.dat', sep='::', \n",
    "                     header=None, engine='python', encoding='latin-1')"
   ]
  },
  {
   "cell_type": "markdown",
   "metadata": {},
   "source": [
    "### Preparing the training set and test set"
   ]
  },
  {
   "cell_type": "code",
   "execution_count": 3,
   "metadata": {},
   "outputs": [],
   "source": [
    "training_set = pd.read_csv('../boltzmannMachine/Boltzmann_Machines/ml-100k/u1.base', delimiter='\\t')\n",
    "training_set = np.array(training_set, dtype='int')\n",
    "\n",
    "test_set = pd.read_csv('../boltzmannMachine/Boltzmann_Machines/ml-100k/u1.test', delimiter='\\t')\n",
    "test_set = np.array(test_set, dtype='int')"
   ]
  },
  {
   "cell_type": "markdown",
   "metadata": {},
   "source": [
    "### Getting the number of users and movies"
   ]
  },
  {
   "cell_type": "code",
   "execution_count": 4,
   "metadata": {},
   "outputs": [],
   "source": [
    "nb_users = int(max(max(training_set[:,0]), max(test_set[:,0])))\n",
    "nb_movies= int(max(max(training_set[:,1]), max(test_set[:,1])))"
   ]
  },
  {
   "cell_type": "markdown",
   "metadata": {},
   "source": [
    "### Converting the data into an array with users in lines and movies in columns"
   ]
  },
  {
   "cell_type": "code",
   "execution_count": 5,
   "metadata": {},
   "outputs": [],
   "source": [
    "def convert(data):\n",
    "    new_data = []\n",
    "    \n",
    "    for id_users in range(1, nb_users+1):\n",
    "        id_movies = data[:,1][data[:,0]==id_users]\n",
    "        id_ratings= data[:,2][data[:,0]==id_users]\n",
    "        ratings = np.zeros(nb_movies)\n",
    "        ratings[id_movies-1] = id_ratings\n",
    "        \n",
    "        new_data.append(list(ratings))\n",
    "        \n",
    "    return new_data\n",
    "\n",
    "training_set = convert(training_set)\n",
    "test_set = convert(test_set)"
   ]
  },
  {
   "cell_type": "markdown",
   "metadata": {},
   "source": [
    "### Converting the data into Torch tensors"
   ]
  },
  {
   "cell_type": "code",
   "execution_count": 6,
   "metadata": {},
   "outputs": [],
   "source": [
    "training_set = torch.FloatTensor(training_set)\n",
    "test_set = torch.FloatTensor(test_set)"
   ]
  },
  {
   "cell_type": "markdown",
   "metadata": {},
   "source": [
    "### Creating the architecture of the Neural Network"
   ]
  },
  {
   "cell_type": "code",
   "execution_count": 7,
   "metadata": {},
   "outputs": [],
   "source": [
    "class StakedAutoEnconder(nn.Module):\n",
    "    def __init__(self, ):\n",
    "        super(StakedAutoEnconder, self).__init__()\n",
    "        # Encoding steps\n",
    "        # full connection between the layers\n",
    "        self.fullCon1 = nn.Linear(nb_movies, 20) # inputs are the number of features, and hidden layer nodes/neurons\n",
    "        self.fullCon2 = nn.Linear(20, 10)\n",
    "        # Decoding steps\n",
    "        self.fullCon3 = nn.Linear(10, 20) # Decoding now\n",
    "        self.fullCon4 = nn.Linear(20, nb_movies)\n",
    "        \n",
    "        # Define activation function\n",
    "        self.activation = nn.Sigmoid()\n",
    "    \n",
    "    # Encoding and decoding function process: forward propagation\n",
    "    def forward(self, x):\n",
    "        x = self.activation(self.fullCon1(x))\n",
    "        x = self.activation(self.fullCon2(x))\n",
    "        x = self.activation(self.fullCon3(x))\n",
    "        x = self.fullCon4(x) # no activation needed\n",
    "        \n",
    "        return x\n"
   ]
  },
  {
   "cell_type": "code",
   "execution_count": 8,
   "metadata": {},
   "outputs": [],
   "source": [
    "# instantiate \n",
    "sae = StakedAutoEnconder()\n",
    "criterion = nn.MSELoss()\n",
    "optimizer = optim.RMSprop(sae.parameters(), lr=0.01, weight_decay=0.5)"
   ]
  },
  {
   "cell_type": "markdown",
   "metadata": {},
   "source": [
    "### Training the Staked Autoencoder"
   ]
  },
  {
   "cell_type": "code",
   "execution_count": 11,
   "metadata": {},
   "outputs": [
    {
     "name": "stdout",
     "output_type": "stream",
     "text": [
      "epoch: 1 loss: 1.0965129609759134\n",
      "epoch: 2 loss: 1.0534318710888915\n",
      "epoch: 3 loss: 1.038410185790813\n",
      "epoch: 4 loss: 1.030861157875929\n",
      "epoch: 5 loss: 1.0265216834142992\n",
      "epoch: 6 loss: 1.0239208771925221\n",
      "epoch: 7 loss: 1.0218829003962695\n",
      "epoch: 8 loss: 1.0207700903473969\n",
      "epoch: 9 loss: 1.0194755372059807\n",
      "epoch: 10 loss: 1.0189258726695216\n",
      "epoch: 11 loss: 1.0185438447549968\n",
      "epoch: 12 loss: 1.0179947039307933\n",
      "epoch: 13 loss: 1.0174632709822657\n",
      "epoch: 14 loss: 1.017457899951109\n",
      "epoch: 15 loss: 1.0168648028907687\n",
      "epoch: 16 loss: 1.016609548219638\n",
      "epoch: 17 loss: 1.016387720437474\n",
      "epoch: 18 loss: 1.0163283788513708\n",
      "epoch: 19 loss: 1.0159639865391163\n",
      "epoch: 20 loss: 1.0161759370153578\n",
      "epoch: 21 loss: 1.0158765264318288\n",
      "epoch: 22 loss: 1.0159176903701392\n",
      "epoch: 23 loss: 1.0157438484792964\n",
      "epoch: 24 loss: 1.0158606891978452\n",
      "epoch: 25 loss: 1.0155397266490096\n",
      "epoch: 26 loss: 1.0155168819162104\n",
      "epoch: 27 loss: 1.015027771070125\n",
      "epoch: 28 loss: 1.0125470743126437\n",
      "epoch: 29 loss: 1.012084677341124\n",
      "epoch: 30 loss: 1.0097476576361404\n",
      "epoch: 31 loss: 1.009317193115213\n",
      "epoch: 32 loss: 1.0052879046657945\n",
      "epoch: 33 loss: 1.0051372693033263\n",
      "epoch: 34 loss: 1.0014481423658224\n",
      "epoch: 35 loss: 1.0000170502855372\n",
      "epoch: 36 loss: 0.9968143414155992\n",
      "epoch: 37 loss: 0.9950711509058924\n",
      "epoch: 38 loss: 0.991799984258165\n",
      "epoch: 39 loss: 0.9920208881333816\n",
      "epoch: 40 loss: 0.991202645381543\n",
      "epoch: 41 loss: 0.9894857562811286\n",
      "epoch: 42 loss: 0.9902045515451984\n",
      "epoch: 43 loss: 0.9872383181473489\n",
      "epoch: 44 loss: 0.9863713646088288\n",
      "epoch: 45 loss: 0.9848454085186499\n",
      "epoch: 46 loss: 0.9809167195966915\n",
      "epoch: 47 loss: 0.9830647230807784\n",
      "epoch: 48 loss: 0.9778767955463789\n",
      "epoch: 49 loss: 0.9754575201845646\n",
      "epoch: 50 loss: 0.9728404016621682\n",
      "epoch: 51 loss: 0.9753374971220156\n",
      "epoch: 52 loss: 0.9712334597485126\n",
      "epoch: 53 loss: 0.9705285800796806\n",
      "epoch: 54 loss: 0.964443827191546\n",
      "epoch: 55 loss: 0.9663215691346265\n",
      "epoch: 56 loss: 0.9629553108261082\n",
      "epoch: 57 loss: 0.963370324530756\n",
      "epoch: 58 loss: 0.9601346719008022\n",
      "epoch: 59 loss: 0.959843795477811\n",
      "epoch: 60 loss: 0.9575611551829784\n",
      "epoch: 61 loss: 0.959772544105525\n",
      "epoch: 62 loss: 0.9577874824393235\n",
      "epoch: 63 loss: 0.9574915557877309\n",
      "epoch: 64 loss: 0.9545585233218014\n",
      "epoch: 65 loss: 0.9544879901881868\n",
      "epoch: 66 loss: 0.9524401000480262\n",
      "epoch: 67 loss: 0.9524104940892064\n",
      "epoch: 68 loss: 0.9499149214773256\n",
      "epoch: 69 loss: 0.949792730510616\n",
      "epoch: 70 loss: 0.9479576015123654\n",
      "epoch: 71 loss: 0.9479258671980986\n",
      "epoch: 72 loss: 0.9464869651457992\n",
      "epoch: 73 loss: 0.9475138635277215\n",
      "epoch: 74 loss: 0.9459395348598159\n",
      "epoch: 75 loss: 0.9469664053855877\n",
      "epoch: 76 loss: 0.9446100287352437\n",
      "epoch: 77 loss: 0.945449163782651\n",
      "epoch: 78 loss: 0.943985985435682\n",
      "epoch: 79 loss: 0.9443027390713039\n",
      "epoch: 80 loss: 0.9420458620357177\n",
      "epoch: 81 loss: 0.9415485652372756\n",
      "epoch: 82 loss: 0.9404263294052239\n",
      "epoch: 83 loss: 0.9415266329902658\n",
      "epoch: 84 loss: 0.9435025159399989\n",
      "epoch: 85 loss: 0.9447216886862053\n",
      "epoch: 86 loss: 0.9453538363923748\n",
      "epoch: 87 loss: 0.945418475464962\n",
      "epoch: 88 loss: 0.9447562500505173\n",
      "epoch: 89 loss: 0.9446968438192628\n",
      "epoch: 90 loss: 0.9414882094183893\n",
      "epoch: 91 loss: 0.9426027004478913\n",
      "epoch: 92 loss: 0.9397901903622344\n",
      "epoch: 93 loss: 0.9393953636667088\n",
      "epoch: 94 loss: 0.9376533734480471\n",
      "epoch: 95 loss: 0.9379212808574653\n",
      "epoch: 96 loss: 0.9360711836342636\n",
      "epoch: 97 loss: 0.9364181961572805\n",
      "epoch: 98 loss: 0.9364021864582991\n",
      "epoch: 99 loss: 0.9378082286199161\n",
      "epoch: 100 loss: 0.9354041799601635\n",
      "epoch: 101 loss: 0.9344953181663713\n",
      "epoch: 102 loss: 0.9336193081995278\n",
      "epoch: 103 loss: 0.934252882968087\n",
      "epoch: 104 loss: 0.9341440763506208\n",
      "epoch: 105 loss: 0.9330601897260877\n",
      "epoch: 106 loss: 0.9320280439850217\n",
      "epoch: 107 loss: 0.9323546295505385\n",
      "epoch: 108 loss: 0.9308873354627273\n",
      "epoch: 109 loss: 0.9313773921907624\n",
      "epoch: 110 loss: 0.9301489630812753\n",
      "epoch: 111 loss: 0.9308088370540479\n",
      "epoch: 112 loss: 0.9291434497397859\n",
      "epoch: 113 loss: 0.9297383124147208\n",
      "epoch: 114 loss: 0.9286573674202591\n",
      "epoch: 115 loss: 0.9284941735199815\n",
      "epoch: 116 loss: 0.9278949496541744\n",
      "epoch: 117 loss: 0.9282295653448398\n",
      "epoch: 118 loss: 0.9272827513497923\n",
      "epoch: 119 loss: 0.9270051561902777\n",
      "epoch: 120 loss: 0.9264595622949651\n",
      "epoch: 121 loss: 0.9267632259329903\n",
      "epoch: 122 loss: 0.9257925453959985\n",
      "epoch: 123 loss: 0.9259736630018214\n",
      "epoch: 124 loss: 0.9253220426721932\n",
      "epoch: 125 loss: 0.9253917785757334\n",
      "epoch: 126 loss: 0.9247594507671656\n",
      "epoch: 127 loss: 0.9246699043848634\n",
      "epoch: 128 loss: 0.9238930431488632\n",
      "epoch: 129 loss: 0.9241141747983244\n",
      "epoch: 130 loss: 0.9235124223661391\n",
      "epoch: 131 loss: 0.9241537269071438\n",
      "epoch: 132 loss: 0.9234117716486607\n",
      "epoch: 133 loss: 0.9241523208290614\n",
      "epoch: 134 loss: 0.9230117505989018\n",
      "epoch: 135 loss: 0.923385030445216\n",
      "epoch: 136 loss: 0.9223556749571518\n",
      "epoch: 137 loss: 0.9227814118531653\n",
      "epoch: 138 loss: 0.9215014577803953\n",
      "epoch: 139 loss: 0.922113404110631\n",
      "epoch: 140 loss: 0.9211066567737057\n",
      "epoch: 141 loss: 0.9218503730162185\n",
      "epoch: 142 loss: 0.9203393414514116\n",
      "epoch: 143 loss: 0.9214530539871258\n",
      "epoch: 144 loss: 0.9199761281554428\n",
      "epoch: 145 loss: 0.9206988454440411\n",
      "epoch: 146 loss: 0.9197362052765531\n",
      "epoch: 147 loss: 0.9201903175806712\n",
      "epoch: 148 loss: 0.9193005529648441\n",
      "epoch: 149 loss: 0.9199458976961299\n",
      "epoch: 150 loss: 0.9190343561917248\n",
      "epoch: 151 loss: 0.9197610997126074\n",
      "epoch: 152 loss: 0.919059203448882\n",
      "epoch: 153 loss: 0.9193880513808207\n",
      "epoch: 154 loss: 0.9182595766205411\n",
      "epoch: 155 loss: 0.9189627010208639\n",
      "epoch: 156 loss: 0.918058175459413\n",
      "epoch: 157 loss: 0.9184656725334474\n",
      "epoch: 158 loss: 0.9178049189225844\n",
      "epoch: 159 loss: 0.9180146343860288\n",
      "epoch: 160 loss: 0.9172475922463699\n",
      "epoch: 161 loss: 0.9177608241644009\n",
      "epoch: 162 loss: 0.9168012805116834\n",
      "epoch: 163 loss: 0.9176437477904941\n",
      "epoch: 164 loss: 0.9166986314803536\n",
      "epoch: 165 loss: 0.9172935538262426\n",
      "epoch: 166 loss: 0.9162077480430291\n",
      "epoch: 167 loss: 0.9167075033055063\n",
      "epoch: 168 loss: 0.9161446243668442\n",
      "epoch: 169 loss: 0.9163729473746858\n",
      "epoch: 170 loss: 0.9157096732398762\n",
      "epoch: 171 loss: 0.9163513997799965\n",
      "epoch: 172 loss: 0.9154352949670772\n",
      "epoch: 173 loss: 0.9157267983528158\n",
      "epoch: 174 loss: 0.914915291304752\n",
      "epoch: 175 loss: 0.9158312070333259\n",
      "epoch: 176 loss: 0.9149124509536639\n",
      "epoch: 177 loss: 0.9153686853604234\n",
      "epoch: 178 loss: 0.9144880665055573\n",
      "epoch: 179 loss: 0.9153793248334707\n",
      "epoch: 180 loss: 0.9142682163830943\n",
      "epoch: 181 loss: 0.91490302455394\n",
      "epoch: 182 loss: 0.9138276034732451\n",
      "epoch: 183 loss: 0.9144057709207893\n",
      "epoch: 184 loss: 0.9134179848218995\n",
      "epoch: 185 loss: 0.9142555887911055\n",
      "epoch: 186 loss: 0.9130729607580694\n",
      "epoch: 187 loss: 0.9140004071601467\n",
      "epoch: 188 loss: 0.9126962166114684\n",
      "epoch: 189 loss: 0.9135164374994548\n",
      "epoch: 190 loss: 0.9124346698229531\n",
      "epoch: 191 loss: 0.913128977826815\n",
      "epoch: 192 loss: 0.9122054124105206\n",
      "epoch: 193 loss: 0.9129805159534594\n",
      "epoch: 194 loss: 0.9115672567175224\n",
      "epoch: 195 loss: 0.912131814892014\n",
      "epoch: 196 loss: 0.9107773502378724\n",
      "epoch: 197 loss: 0.9115607173551885\n",
      "epoch: 198 loss: 0.910611350272669\n",
      "epoch: 199 loss: 0.9110823366756033\n",
      "epoch: 200 loss: 0.90971586890665\n"
     ]
    }
   ],
   "source": [
    "nb_epoch = 200\n",
    "\n",
    "for epoch in range(1,nb_epoch+1):\n",
    "    train_loss = 0\n",
    "    # number of users that rated at least 1 movie\n",
    "    s = 0.\n",
    "    \n",
    "    # loop over the observations\n",
    "    for id_user in range(nb_users):\n",
    "        inp = Variable(training_set[id_user]).unsqueeze(0)\n",
    "        target = inp.clone() # clone here to compare later\n",
    "        \n",
    "        # exclude users that did not rate any movies\n",
    "        if torch.sum(target.data > 0) > 0:\n",
    "            output = sae(inp)\n",
    "            # target does not need gradients to be calculated\n",
    "            target.require_grad = False\n",
    "            output[target==0] = 0 # don't use these values in the computation of the error\n",
    "            loss = criterion(output,target) # loss function calculations\n",
    "            \n",
    "            # used to normalize the loss but only for moves that got at least one rating\n",
    "            mean_corrector = nb_movies/float(torch.sum(target.data >0)+1.e-10)\n",
    "            \n",
    "            loss.backward() # increase or decrease the weights?\n",
    "            train_loss += np.sqrt(loss.item()*mean_corrector)\n",
    "            s += 1.\n",
    "            optimizer.step()\n",
    "    print('epoch: '+str(epoch)+' loss: '+str(train_loss/s))"
   ]
  },
  {
   "cell_type": "markdown",
   "metadata": {},
   "source": [
    "### Testing the SAE "
   ]
  },
  {
   "cell_type": "code",
   "execution_count": 13,
   "metadata": {},
   "outputs": [
    {
     "name": "stdout",
     "output_type": "stream",
     "text": [
      "test loss: 0.9455521377516951\n"
     ]
    }
   ],
   "source": [
    "test_loss = 0\n",
    "s = 0.\n",
    "for id_user in range(nb_users):\n",
    "    input = Variable(training_set[id_user]).unsqueeze(0)\n",
    "    target = Variable(test_set[id_user])\n",
    "    if torch.sum(target.data > 0) > 0:\n",
    "        output = sae(input)\n",
    "        target.require_grad = False\n",
    "        output[target.view(1,-1) == 0] = 0\n",
    "        loss = criterion(output, target)\n",
    "        mean_corrector = nb_movies/float(torch.sum(target.data > 0) + 1e-10)\n",
    "        test_loss += np.sqrt(loss.item()*mean_corrector)\n",
    "        s += 1.\n",
    "print('test loss: '+str(test_loss/s))"
   ]
  },
  {
   "cell_type": "markdown",
   "metadata": {},
   "source": [
    "## Building Autoencoders in Keras \n",
    "\n",
    "### Let's build the simplest possible autoencoder\n",
    "We'll start simple, with a single fully-connected neural layer as encoder and as decoder:"
   ]
  },
  {
   "cell_type": "code",
   "execution_count": 14,
   "metadata": {},
   "outputs": [
    {
     "name": "stderr",
     "output_type": "stream",
     "text": [
      "Using TensorFlow backend.\n",
      "/Users/esousa/anaconda3/lib/python3.7/importlib/_bootstrap.py:219: RuntimeWarning: compiletime version 3.6 of module 'tensorflow.python.framework.fast_tensor_util' does not match runtime version 3.7\n",
      "  return f(*args, **kwds)\n"
     ]
    }
   ],
   "source": [
    "from keras.layers import Input, Dense\n",
    "from keras.models import Model\n",
    "\n",
    "# this is the size of our encoded representations\n",
    "encoding_dim = 32  # 32 floats -> compression of factor 24.5, assuming the input is 784 floats\n",
    "\n",
    "# this is our input placeholder\n",
    "input_img = Input(shape=(784,))\n",
    "# \"encoded\" is the encoded representation of the input\n",
    "encoded = Dense(encoding_dim, activation='relu')(input_img)\n",
    "# \"decoded\" is the lossy reconstruction of the input\n",
    "decoded = Dense(784, activation='sigmoid')(encoded)\n",
    "\n",
    "# this model maps an input to its reconstruction\n",
    "autoencoder = Model(input_img, decoded)"
   ]
  },
  {
   "cell_type": "markdown",
   "metadata": {},
   "source": [
    "Let's also create a separate encoder model:"
   ]
  },
  {
   "cell_type": "code",
   "execution_count": 15,
   "metadata": {},
   "outputs": [],
   "source": [
    "# this model maps an input to its encoded representation\n",
    "encoder = Model(input_img, encoded)"
   ]
  },
  {
   "cell_type": "markdown",
   "metadata": {},
   "source": [
    "As well as the decoder model:"
   ]
  },
  {
   "cell_type": "code",
   "execution_count": 16,
   "metadata": {},
   "outputs": [],
   "source": [
    "# create a placeholder for an encoded (32-dimensional) input\n",
    "encoded_input = Input(shape=(encoding_dim,))\n",
    "# retrieve the last layer of the autoencoder model\n",
    "decoder_layer = autoencoder.layers[-1]\n",
    "# create the decoder model\n",
    "decoder = Model(encoded_input, decoder_layer(encoded_input))"
   ]
  },
  {
   "cell_type": "markdown",
   "metadata": {},
   "source": [
    "Now let's train our autoencoder to reconstruct MNIST digits.\n",
    "\n",
    "First, we'll configure our model to use a per-pixel binary crossentropy loss, and the Adadelta optimizer:"
   ]
  },
  {
   "cell_type": "code",
   "execution_count": 17,
   "metadata": {},
   "outputs": [],
   "source": [
    "autoencoder.compile(optimizer='adadelta', loss='binary_crossentropy')"
   ]
  },
  {
   "cell_type": "markdown",
   "metadata": {},
   "source": [
    "Let's prepare our input data. We're using MNIST digits, and we're discarding the labels (since we're only interested in encoding/decoding the input images)."
   ]
  },
  {
   "cell_type": "code",
   "execution_count": 18,
   "metadata": {},
   "outputs": [
    {
     "name": "stdout",
     "output_type": "stream",
     "text": [
      "Downloading data from https://s3.amazonaws.com/img-datasets/mnist.npz\n",
      "11493376/11490434 [==============================] - 15s 1us/step\n"
     ]
    }
   ],
   "source": [
    "from keras.datasets import mnist\n",
    "import numpy as np\n",
    "(x_train, _), (x_test, _) = mnist.load_data()"
   ]
  },
  {
   "cell_type": "markdown",
   "metadata": {},
   "source": [
    "We will normalize all values between 0 and 1 and we will flatten the 28x28 images into vectors of size 784."
   ]
  },
  {
   "cell_type": "code",
   "execution_count": 20,
   "metadata": {},
   "outputs": [
    {
     "name": "stdout",
     "output_type": "stream",
     "text": [
      "(60000, 784)\n",
      "(10000, 784)\n"
     ]
    }
   ],
   "source": [
    "x_train = x_train.astype('float32') / 255.\n",
    "x_test = x_test.astype('float32') / 255.\n",
    "x_train = x_train.reshape((len(x_train), np.prod(x_train.shape[1:])))\n",
    "x_test = x_test.reshape((len(x_test), np.prod(x_test.shape[1:])))\n",
    "print(x_train.shape)\n",
    "print(x_test.shape)"
   ]
  },
  {
   "cell_type": "markdown",
   "metadata": {},
   "source": [
    "Now let's train our autoencoder for 50 epochs:"
   ]
  },
  {
   "cell_type": "code",
   "execution_count": 21,
   "metadata": {},
   "outputs": [
    {
     "name": "stdout",
     "output_type": "stream",
     "text": [
      "Train on 60000 samples, validate on 10000 samples\n",
      "Epoch 1/50\n",
      "60000/60000 [==============================] - 1s 22us/step - loss: 0.3554 - val_loss: 0.2708\n",
      "Epoch 2/50\n",
      "60000/60000 [==============================] - 1s 19us/step - loss: 0.2641 - val_loss: 0.2537\n",
      "Epoch 3/50\n",
      "60000/60000 [==============================] - 1s 19us/step - loss: 0.2426 - val_loss: 0.2292\n",
      "Epoch 4/50\n",
      "60000/60000 [==============================] - 1s 19us/step - loss: 0.2210 - val_loss: 0.2108\n",
      "Epoch 5/50\n",
      "60000/60000 [==============================] - 1s 19us/step - loss: 0.2057 - val_loss: 0.1984\n",
      "Epoch 6/50\n",
      "60000/60000 [==============================] - 1s 19us/step - loss: 0.1949 - val_loss: 0.1891\n",
      "Epoch 7/50\n",
      "60000/60000 [==============================] - 1s 19us/step - loss: 0.1865 - val_loss: 0.1814\n",
      "Epoch 8/50\n",
      "60000/60000 [==============================] - 1s 21us/step - loss: 0.1794 - val_loss: 0.1749\n",
      "Epoch 9/50\n",
      "60000/60000 [==============================] - 1s 20us/step - loss: 0.1733 - val_loss: 0.1691\n",
      "Epoch 10/50\n",
      "60000/60000 [==============================] - 1s 19us/step - loss: 0.1680 - val_loss: 0.1642\n",
      "Epoch 11/50\n",
      "60000/60000 [==============================] - 1s 18us/step - loss: 0.1633 - val_loss: 0.1598\n",
      "Epoch 12/50\n",
      "60000/60000 [==============================] - 1s 19us/step - loss: 0.1590 - val_loss: 0.1558\n",
      "Epoch 13/50\n",
      "60000/60000 [==============================] - 1s 19us/step - loss: 0.1551 - val_loss: 0.1519\n",
      "Epoch 14/50\n",
      "60000/60000 [==============================] - 1s 19us/step - loss: 0.1515 - val_loss: 0.1486\n",
      "Epoch 15/50\n",
      "60000/60000 [==============================] - 1s 19us/step - loss: 0.1482 - val_loss: 0.1453\n",
      "Epoch 16/50\n",
      "60000/60000 [==============================] - 1s 19us/step - loss: 0.1451 - val_loss: 0.1423\n",
      "Epoch 17/50\n",
      "60000/60000 [==============================] - 1s 19us/step - loss: 0.1422 - val_loss: 0.1394\n",
      "Epoch 18/50\n",
      "60000/60000 [==============================] - 1s 22us/step - loss: 0.1395 - val_loss: 0.1368\n",
      "Epoch 19/50\n",
      "60000/60000 [==============================] - 1s 20us/step - loss: 0.1370 - val_loss: 0.1342\n",
      "Epoch 20/50\n",
      "60000/60000 [==============================] - 1s 20us/step - loss: 0.1346 - val_loss: 0.1319\n",
      "Epoch 21/50\n",
      "60000/60000 [==============================] - 1s 22us/step - loss: 0.1323 - val_loss: 0.1297\n",
      "Epoch 22/50\n",
      "60000/60000 [==============================] - 1s 20us/step - loss: 0.1301 - val_loss: 0.1275\n",
      "Epoch 23/50\n",
      "60000/60000 [==============================] - 1s 19us/step - loss: 0.1281 - val_loss: 0.1255\n",
      "Epoch 24/50\n",
      "60000/60000 [==============================] - 1s 20us/step - loss: 0.1261 - val_loss: 0.1236\n",
      "Epoch 25/50\n",
      "60000/60000 [==============================] - 1s 21us/step - loss: 0.1243 - val_loss: 0.1218\n",
      "Epoch 26/50\n",
      "60000/60000 [==============================] - 1s 20us/step - loss: 0.1226 - val_loss: 0.1201\n",
      "Epoch 27/50\n",
      "60000/60000 [==============================] - 1s 20us/step - loss: 0.1210 - val_loss: 0.1185\n",
      "Epoch 28/50\n",
      "60000/60000 [==============================] - 1s 19us/step - loss: 0.1194 - val_loss: 0.1170\n",
      "Epoch 29/50\n",
      "60000/60000 [==============================] - 1s 20us/step - loss: 0.1180 - val_loss: 0.1157\n",
      "Epoch 30/50\n",
      "60000/60000 [==============================] - 1s 20us/step - loss: 0.1167 - val_loss: 0.1144\n",
      "Epoch 31/50\n",
      "60000/60000 [==============================] - 1s 20us/step - loss: 0.1154 - val_loss: 0.1132\n",
      "Epoch 32/50\n",
      "60000/60000 [==============================] - 1s 19us/step - loss: 0.1142 - val_loss: 0.1121\n",
      "Epoch 33/50\n",
      "60000/60000 [==============================] - 1s 20us/step - loss: 0.1132 - val_loss: 0.1111\n",
      "Epoch 34/50\n",
      "60000/60000 [==============================] - 1s 20us/step - loss: 0.1122 - val_loss: 0.1101\n",
      "Epoch 35/50\n",
      "60000/60000 [==============================] - 1s 22us/step - loss: 0.1112 - val_loss: 0.1092\n",
      "Epoch 36/50\n",
      "60000/60000 [==============================] - 1s 22us/step - loss: 0.1103 - val_loss: 0.1083\n",
      "Epoch 37/50\n",
      "60000/60000 [==============================] - 1s 22us/step - loss: 0.1095 - val_loss: 0.1075\n",
      "Epoch 38/50\n",
      "60000/60000 [==============================] - 1s 20us/step - loss: 0.1088 - val_loss: 0.1068\n",
      "Epoch 39/50\n",
      "60000/60000 [==============================] - 1s 20us/step - loss: 0.1081 - val_loss: 0.1061\n",
      "Epoch 40/50\n",
      "60000/60000 [==============================] - 1s 19us/step - loss: 0.1074 - val_loss: 0.1055\n",
      "Epoch 41/50\n",
      "60000/60000 [==============================] - 1s 20us/step - loss: 0.1068 - val_loss: 0.1048\n",
      "Epoch 42/50\n",
      "60000/60000 [==============================] - 1s 20us/step - loss: 0.1062 - val_loss: 0.1043\n",
      "Epoch 43/50\n",
      "60000/60000 [==============================] - 1s 19us/step - loss: 0.1056 - val_loss: 0.1038\n",
      "Epoch 44/50\n",
      "60000/60000 [==============================] - 1s 20us/step - loss: 0.1051 - val_loss: 0.1032\n",
      "Epoch 45/50\n",
      "60000/60000 [==============================] - 1s 20us/step - loss: 0.1046 - val_loss: 0.1028\n",
      "Epoch 46/50\n",
      "60000/60000 [==============================] - 1s 20us/step - loss: 0.1042 - val_loss: 0.1023\n",
      "Epoch 47/50\n",
      "60000/60000 [==============================] - 1s 20us/step - loss: 0.1037 - val_loss: 0.1019\n",
      "Epoch 48/50\n",
      "60000/60000 [==============================] - 1s 20us/step - loss: 0.1033 - val_loss: 0.1015\n",
      "Epoch 49/50\n",
      "60000/60000 [==============================] - 1s 20us/step - loss: 0.1029 - val_loss: 0.1011\n",
      "Epoch 50/50\n",
      "60000/60000 [==============================] - 1s 20us/step - loss: 0.1026 - val_loss: 0.1008\n"
     ]
    },
    {
     "data": {
      "text/plain": [
       "<keras.callbacks.History at 0x12a6aca58>"
      ]
     },
     "execution_count": 21,
     "metadata": {},
     "output_type": "execute_result"
    }
   ],
   "source": [
    "autoencoder.fit(x_train, x_train,\n",
    "                epochs=50,\n",
    "                batch_size=256,\n",
    "                shuffle=True,\n",
    "                validation_data=(x_test, x_test))"
   ]
  },
  {
   "cell_type": "markdown",
   "metadata": {},
   "source": [
    "We can try to visualize the reconstructed inputs and the encoded representations using Matplotlib."
   ]
  },
  {
   "cell_type": "code",
   "execution_count": 22,
   "metadata": {},
   "outputs": [],
   "source": [
    "# encode and decode some digits\n",
    "# note that we take them from the *test* set\n",
    "encoded_imgs = encoder.predict(x_test)\n",
    "decoded_imgs = decoder.predict(encoded_imgs)"
   ]
  },
  {
   "cell_type": "code",
   "execution_count": 33,
   "metadata": {},
   "outputs": [
    {
     "data": {
      "image/png": "[encoded data removed]",
      "text/plain": [
       "<Figure size 1440x288 with 20 Axes>"
      ]
     },
     "metadata": {
      "needs_background": "light"
     },
     "output_type": "display_data"
    }
   ],
   "source": [
    "import matplotlib.pyplot as plt\n",
    "%matplotlib inline\n",
    "\n",
    "def make_plot(n=10, test=x_test, decoded=decoded_imgs):\n",
    "    plt.figure(figsize=(20, 4))\n",
    "    \n",
    "    for i in range(n):\n",
    "        # display original\n",
    "        ax = plt.subplot(2, n, i + 1)\n",
    "        plt.imshow(x_test[i].reshape(28, 28))\n",
    "        plt.gray()\n",
    "        ax.get_xaxis().set_visible(False)\n",
    "        ax.get_yaxis().set_visible(False)\n",
    "        \n",
    "        # display reconstruction\n",
    "        ax = plt.subplot(2, n, i + 1 + n)\n",
    "        plt.imshow(decoded_imgs[i].reshape(28, 28))\n",
    "        plt.gray()\n",
    "        ax.get_xaxis().set_visible(False)\n",
    "        ax.get_yaxis().set_visible(False)\n",
    "    plt.show()\n",
    "    \n",
    "make_plot()"
   ]
  },
  {
   "cell_type": "markdown",
   "metadata": {},
   "source": [
    "The top row is the original digits, and the bottom row is the reconstructed digits. We are losing quite a bit of detail with this basic approach."
   ]
  },
  {
   "cell_type": "markdown",
   "metadata": {},
   "source": [
    "### Adding a sparsity constraint on the encoded representations\n",
    "\n",
    "In the previous example, the representations were only constrained by the size of the hidden layer (32). In such a situation, what typically happens is that the hidden layer is learning an approximation of PCA (principal component analysis). But another way to constrain the representations to be compact is to add a sparsity contraint on the activity of the hidden representations, so fewer units would \"fire\" at a given time. In Keras, this can be done by adding an activity_regularizer to our Dense layer:"
   ]
  },
  {
   "cell_type": "code",
   "execution_count": 25,
   "metadata": {},
   "outputs": [],
   "source": [
    "from keras import regularizers\n",
    "\n",
    "encoding_dim = 32\n",
    "\n",
    "input_img = Input(shape=(784,))\n",
    "# add a Dense layer with a L1 activity regularizer\n",
    "encoded = Dense(encoding_dim, activation='relu',\n",
    "                activity_regularizer=regularizers.l1(10e-5))(input_img)\n",
    "decoded = Dense(784, activation='sigmoid')(encoded)\n",
    "\n",
    "autoencoder = Model(input_img, decoded)"
   ]
  },
  {
   "cell_type": "markdown",
   "metadata": {},
   "source": [
    "Let's train this model for 100 epochs (with the added regularization the model is less likely to overfit and can be trained longer). "
   ]
  },
  {
   "cell_type": "code",
   "execution_count": 27,
   "metadata": {},
   "outputs": [
    {
     "name": "stdout",
     "output_type": "stream",
     "text": [
      "Train on 60000 samples, validate on 10000 samples\n",
      "Epoch 1/100\n",
      "60000/60000 [==============================] - 1s 22us/step - loss: 0.3831 - val_loss: 0.3797\n",
      "Epoch 2/100\n",
      "60000/60000 [==============================] - 1s 19us/step - loss: 0.3762 - val_loss: 0.3731\n",
      "Epoch 3/100\n",
      "60000/60000 [==============================] - 1s 19us/step - loss: 0.3699 - val_loss: 0.3671\n",
      "Epoch 4/100\n",
      "60000/60000 [==============================] - 1s 21us/step - loss: 0.3642 - val_loss: 0.3616\n",
      "Epoch 5/100\n",
      "60000/60000 [==============================] - 1s 19us/step - loss: 0.3589 - val_loss: 0.3566\n",
      "Epoch 6/100\n",
      "60000/60000 [==============================] - 1s 19us/step - loss: 0.3541 - val_loss: 0.3520\n",
      "Epoch 7/100\n",
      "60000/60000 [==============================] - 1s 19us/step - loss: 0.3497 - val_loss: 0.3478\n",
      "Epoch 8/100\n",
      "60000/60000 [==============================] - 1s 19us/step - loss: 0.3457 - val_loss: 0.3439\n",
      "Epoch 9/100\n",
      "60000/60000 [==============================] - 1s 20us/step - loss: 0.3419 - val_loss: 0.3403\n",
      "Epoch 10/100\n",
      "60000/60000 [==============================] - 1s 20us/step - loss: 0.3385 - val_loss: 0.3370\n",
      "Epoch 11/100\n",
      "60000/60000 [==============================] - 1s 21us/step - loss: 0.3352 - val_loss: 0.3339\n",
      "Epoch 12/100\n",
      "60000/60000 [==============================] - 1s 19us/step - loss: 0.3323 - val_loss: 0.3310\n",
      "Epoch 13/100\n",
      "60000/60000 [==============================] - 1s 19us/step - loss: 0.3295 - val_loss: 0.3283\n",
      "Epoch 14/100\n",
      "60000/60000 [==============================] - 1s 19us/step - loss: 0.3269 - val_loss: 0.3258\n",
      "Epoch 15/100\n",
      "60000/60000 [==============================] - 1s 22us/step - loss: 0.3245 - val_loss: 0.3234\n",
      "Epoch 16/100\n",
      "60000/60000 [==============================] - 1s 21us/step - loss: 0.3222 - val_loss: 0.3212\n",
      "Epoch 17/100\n",
      "60000/60000 [==============================] - 1s 19us/step - loss: 0.3201 - val_loss: 0.3192\n",
      "Epoch 18/100\n",
      "60000/60000 [==============================] - 1s 19us/step - loss: 0.3181 - val_loss: 0.3172\n",
      "Epoch 19/100\n",
      "60000/60000 [==============================] - 1s 18us/step - loss: 0.3162 - val_loss: 0.3154\n",
      "Epoch 20/100\n",
      "60000/60000 [==============================] - 1s 18us/step - loss: 0.3144 - val_loss: 0.3137\n",
      "Epoch 21/100\n",
      "60000/60000 [==============================] - 1s 18us/step - loss: 0.3127 - val_loss: 0.3121\n",
      "Epoch 22/100\n",
      "60000/60000 [==============================] - 1s 19us/step - loss: 0.3112 - val_loss: 0.3105\n",
      "Epoch 23/100\n",
      "60000/60000 [==============================] - 1s 19us/step - loss: 0.3097 - val_loss: 0.3091\n",
      "Epoch 24/100\n",
      "60000/60000 [==============================] - 1s 18us/step - loss: 0.3083 - val_loss: 0.3077\n",
      "Epoch 25/100\n",
      "60000/60000 [==============================] - 1s 19us/step - loss: 0.3069 - val_loss: 0.3064\n",
      "Epoch 26/100\n",
      "60000/60000 [==============================] - 1s 18us/step - loss: 0.3057 - val_loss: 0.3052\n",
      "Epoch 27/100\n",
      "60000/60000 [==============================] - 1s 19us/step - loss: 0.3045 - val_loss: 0.3040\n",
      "Epoch 28/100\n",
      "60000/60000 [==============================] - 1s 18us/step - loss: 0.3033 - val_loss: 0.3029\n",
      "Epoch 29/100\n",
      "60000/60000 [==============================] - 1s 19us/step - loss: 0.3022 - val_loss: 0.3018\n",
      "Epoch 30/100\n",
      "60000/60000 [==============================] - 1s 19us/step - loss: 0.3012 - val_loss: 0.3008\n",
      "Epoch 31/100\n",
      "60000/60000 [==============================] - 1s 19us/step - loss: 0.3002 - val_loss: 0.2998\n",
      "Epoch 32/100\n",
      "60000/60000 [==============================] - 1s 19us/step - loss: 0.2992 - val_loss: 0.2989\n",
      "Epoch 33/100\n",
      "60000/60000 [==============================] - 1s 19us/step - loss: 0.2983 - val_loss: 0.2980\n",
      "Epoch 34/100\n",
      "60000/60000 [==============================] - 1s 19us/step - loss: 0.2975 - val_loss: 0.2971\n",
      "Epoch 35/100\n",
      "60000/60000 [==============================] - 1s 19us/step - loss: 0.2966 - val_loss: 0.2963\n",
      "Epoch 36/100\n",
      "60000/60000 [==============================] - 1s 19us/step - loss: 0.2958 - val_loss: 0.2955\n",
      "Epoch 37/100\n",
      "60000/60000 [==============================] - 1s 21us/step - loss: 0.2951 - val_loss: 0.2948\n",
      "Epoch 38/100\n",
      "60000/60000 [==============================] - 1s 22us/step - loss: 0.2943 - val_loss: 0.2941\n",
      "Epoch 39/100\n",
      "60000/60000 [==============================] - 1s 19us/step - loss: 0.2936 - val_loss: 0.2934\n",
      "Epoch 40/100\n",
      "60000/60000 [==============================] - 1s 19us/step - loss: 0.2930 - val_loss: 0.2927\n",
      "Epoch 41/100\n",
      "60000/60000 [==============================] - 1s 20us/step - loss: 0.2923 - val_loss: 0.2921\n",
      "Epoch 42/100\n",
      "60000/60000 [==============================] - 1s 19us/step - loss: 0.2917 - val_loss: 0.2915\n",
      "Epoch 43/100\n",
      "60000/60000 [==============================] - 1s 19us/step - loss: 0.2911 - val_loss: 0.2909\n",
      "Epoch 44/100\n",
      "60000/60000 [==============================] - 1s 19us/step - loss: 0.2905 - val_loss: 0.2903\n",
      "Epoch 45/100\n",
      "60000/60000 [==============================] - 1s 20us/step - loss: 0.2900 - val_loss: 0.2897\n",
      "Epoch 46/100\n",
      "60000/60000 [==============================] - 1s 23us/step - loss: 0.2894 - val_loss: 0.2892\n",
      "Epoch 47/100\n",
      "60000/60000 [==============================] - 1s 22us/step - loss: 0.2889 - val_loss: 0.2887\n",
      "Epoch 48/100\n",
      "60000/60000 [==============================] - 1s 20us/step - loss: 0.2884 - val_loss: 0.2882\n",
      "Epoch 49/100\n",
      "60000/60000 [==============================] - 1s 21us/step - loss: 0.2879 - val_loss: 0.2877\n",
      "Epoch 50/100\n",
      "60000/60000 [==============================] - 1s 21us/step - loss: 0.2875 - val_loss: 0.2873\n",
      "Epoch 51/100\n",
      "60000/60000 [==============================] - 1s 19us/step - loss: 0.2870 - val_loss: 0.2868\n",
      "Epoch 52/100\n",
      "60000/60000 [==============================] - 1s 18us/step - loss: 0.2866 - val_loss: 0.2864\n",
      "Epoch 53/100\n",
      "60000/60000 [==============================] - 1s 19us/step - loss: 0.2862 - val_loss: 0.2860\n",
      "Epoch 54/100\n",
      "60000/60000 [==============================] - 1s 19us/step - loss: 0.2857 - val_loss: 0.2856\n",
      "Epoch 55/100\n",
      "60000/60000 [==============================] - 1s 19us/step - loss: 0.2853 - val_loss: 0.2852\n",
      "Epoch 56/100\n",
      "60000/60000 [==============================] - 1s 19us/step - loss: 0.2850 - val_loss: 0.2848\n",
      "Epoch 57/100\n",
      "60000/60000 [==============================] - 1s 22us/step - loss: 0.2846 - val_loss: 0.2844\n",
      "Epoch 58/100\n",
      "60000/60000 [==============================] - 1s 21us/step - loss: 0.2842 - val_loss: 0.2841\n",
      "Epoch 59/100\n",
      "60000/60000 [==============================] - 1s 21us/step - loss: 0.2839 - val_loss: 0.2837\n",
      "Epoch 60/100\n",
      "60000/60000 [==============================] - 1s 22us/step - loss: 0.2835 - val_loss: 0.2834\n",
      "Epoch 61/100\n",
      "60000/60000 [==============================] - 1s 20us/step - loss: 0.2832 - val_loss: 0.2830\n",
      "Epoch 62/100\n",
      "60000/60000 [==============================] - 1s 20us/step - loss: 0.2829 - val_loss: 0.2827\n",
      "Epoch 63/100\n",
      "60000/60000 [==============================] - 1s 20us/step - loss: 0.2826 - val_loss: 0.2824\n",
      "Epoch 64/100\n",
      "60000/60000 [==============================] - 1s 21us/step - loss: 0.2823 - val_loss: 0.2821\n",
      "Epoch 65/100\n",
      "60000/60000 [==============================] - 1s 21us/step - loss: 0.2820 - val_loss: 0.2818\n",
      "Epoch 66/100\n",
      "60000/60000 [==============================] - 1s 21us/step - loss: 0.2817 - val_loss: 0.2815\n",
      "Epoch 67/100\n",
      "60000/60000 [==============================] - 1s 20us/step - loss: 0.2814 - val_loss: 0.2813\n",
      "Epoch 68/100\n",
      "60000/60000 [==============================] - 1s 20us/step - loss: 0.2811 - val_loss: 0.2810\n",
      "Epoch 69/100\n",
      "60000/60000 [==============================] - 1s 20us/step - loss: 0.2809 - val_loss: 0.2807\n",
      "Epoch 70/100\n",
      "60000/60000 [==============================] - 1s 20us/step - loss: 0.2806 - val_loss: 0.2805\n",
      "Epoch 71/100\n",
      "60000/60000 [==============================] - 1s 20us/step - loss: 0.2804 - val_loss: 0.2802\n",
      "Epoch 72/100\n",
      "60000/60000 [==============================] - 1s 20us/step - loss: 0.2801 - val_loss: 0.2800\n",
      "Epoch 73/100\n",
      "60000/60000 [==============================] - 1s 21us/step - loss: 0.2799 - val_loss: 0.2797\n",
      "Epoch 74/100\n",
      "60000/60000 [==============================] - 1s 22us/step - loss: 0.2796 - val_loss: 0.2795\n",
      "Epoch 75/100\n",
      "60000/60000 [==============================] - 1s 21us/step - loss: 0.2794 - val_loss: 0.2793\n",
      "Epoch 76/100\n",
      "60000/60000 [==============================] - 1s 20us/step - loss: 0.2792 - val_loss: 0.2791\n",
      "Epoch 77/100\n",
      "60000/60000 [==============================] - 1s 21us/step - loss: 0.2790 - val_loss: 0.2788\n",
      "Epoch 78/100\n",
      "60000/60000 [==============================] - 1s 22us/step - loss: 0.2788 - val_loss: 0.2786\n",
      "Epoch 79/100\n",
      "60000/60000 [==============================] - 1s 22us/step - loss: 0.2786 - val_loss: 0.2784\n",
      "Epoch 80/100\n",
      "60000/60000 [==============================] - 1s 20us/step - loss: 0.2784 - val_loss: 0.2782\n",
      "Epoch 81/100\n",
      "60000/60000 [==============================] - 1s 20us/step - loss: 0.2782 - val_loss: 0.2780\n",
      "Epoch 82/100\n",
      "60000/60000 [==============================] - 1s 21us/step - loss: 0.2780 - val_loss: 0.2778\n",
      "Epoch 83/100\n",
      "60000/60000 [==============================] - 1s 20us/step - loss: 0.2778 - val_loss: 0.2776\n",
      "Epoch 84/100\n",
      "60000/60000 [==============================] - 1s 20us/step - loss: 0.2776 - val_loss: 0.2775\n",
      "Epoch 85/100\n",
      "60000/60000 [==============================] - 1s 19us/step - loss: 0.2774 - val_loss: 0.2773\n",
      "Epoch 86/100\n",
      "60000/60000 [==============================] - 1s 21us/step - loss: 0.2773 - val_loss: 0.2771\n",
      "Epoch 87/100\n",
      "60000/60000 [==============================] - 1s 20us/step - loss: 0.2771 - val_loss: 0.2769\n",
      "Epoch 88/100\n",
      "60000/60000 [==============================] - 1s 21us/step - loss: 0.2769 - val_loss: 0.2768\n",
      "Epoch 89/100\n",
      "60000/60000 [==============================] - 1s 21us/step - loss: 0.2767 - val_loss: 0.2766\n",
      "Epoch 90/100\n",
      "60000/60000 [==============================] - 1s 21us/step - loss: 0.2766 - val_loss: 0.2764\n",
      "Epoch 91/100\n",
      "60000/60000 [==============================] - 1s 20us/step - loss: 0.2764 - val_loss: 0.2763\n",
      "Epoch 92/100\n",
      "60000/60000 [==============================] - 1s 21us/step - loss: 0.2763 - val_loss: 0.2761\n",
      "Epoch 93/100\n",
      "60000/60000 [==============================] - 1s 20us/step - loss: 0.2761 - val_loss: 0.2760\n",
      "Epoch 94/100\n",
      "60000/60000 [==============================] - 1s 19us/step - loss: 0.2760 - val_loss: 0.2758\n",
      "Epoch 95/100\n",
      "60000/60000 [==============================] - 1s 20us/step - loss: 0.2758 - val_loss: 0.2757\n",
      "Epoch 96/100\n",
      "60000/60000 [==============================] - 1s 20us/step - loss: 0.2757 - val_loss: 0.2755\n",
      "Epoch 97/100\n",
      "60000/60000 [==============================] - 1s 20us/step - loss: 0.2755 - val_loss: 0.2754\n",
      "Epoch 98/100\n",
      "60000/60000 [==============================] - 1s 20us/step - loss: 0.2754 - val_loss: 0.2753\n",
      "Epoch 99/100\n",
      "60000/60000 [==============================] - 1s 20us/step - loss: 0.2753 - val_loss: 0.2751\n",
      "Epoch 100/100\n",
      "60000/60000 [==============================] - 1s 21us/step - loss: 0.2751 - val_loss: 0.2750\n"
     ]
    },
    {
     "data": {
      "text/plain": [
       "<keras.callbacks.History at 0x123c25080>"
      ]
     },
     "execution_count": 27,
     "metadata": {},
     "output_type": "execute_result"
    }
   ],
   "source": [
    "autoencoder.compile(optimizer='adadelta', loss='binary_crossentropy')\n",
    "autoencoder.fit(x_train, x_train,\n",
    "                epochs=100,\n",
    "                batch_size=256,\n",
    "                shuffle=True,\n",
    "                validation_data=(x_test, x_test))"
   ]
  },
  {
   "cell_type": "code",
   "execution_count": 28,
   "metadata": {},
   "outputs": [],
   "source": [
    "# encode and decode some digits\n",
    "# note that we take them from the *test* set\n",
    "encoded_imgs = encoder.predict(x_test)\n",
    "decoded_imgs = decoder.predict(encoded_imgs)"
   ]
  },
  {
   "cell_type": "code",
   "execution_count": 34,
   "metadata": {},
   "outputs": [
    {
     "data": {
      "image/png": "[encoded data removed]",
      "text/plain": [
       "<Figure size 1440x288 with 20 Axes>"
      ]
     },
     "metadata": {
      "needs_background": "light"
     },
     "output_type": "display_data"
    }
   ],
   "source": [
    "make_plot()"
   ]
  },
  {
   "cell_type": "markdown",
   "metadata": {},
   "source": [
    "They look pretty similar to the previous model, the only significant difference being the sparsity of the encoded representations. encoded_imgs.mean() yields a value 3.33 (over our 10,000 test images), whereas with the previous model the same quantity was 7.30. So our new model yields encoded representations that are twice sparser."
   ]
  },
  {
   "cell_type": "markdown",
   "metadata": {},
   "source": [
    "### Deep autoencoder\n",
    "We do not have to limit ourselves to a single layer as encoder or decoder, we could instead use a stack of layers, such as:"
   ]
  },
  {
   "cell_type": "code",
   "execution_count": 30,
   "metadata": {},
   "outputs": [],
   "source": [
    "input_img = Input(shape=(784,))\n",
    "encoded = Dense(128, activation='relu')(input_img)\n",
    "encoded = Dense(64, activation='relu')(encoded)\n",
    "encoded = Dense(32, activation='relu')(encoded)\n",
    "\n",
    "decoded = Dense(64, activation='relu')(encoded)\n",
    "decoded = Dense(128, activation='relu')(decoded)\n",
    "decoded = Dense(784, activation='sigmoid')(decoded)"
   ]
  },
  {
   "cell_type": "code",
   "execution_count": 31,
   "metadata": {},
   "outputs": [
    {
     "name": "stdout",
     "output_type": "stream",
     "text": [
      "Train on 60000 samples, validate on 10000 samples\n",
      "Epoch 1/100\n",
      "60000/60000 [==============================] - 2s 37us/step - loss: 0.3270 - val_loss: 0.2628\n",
      "Epoch 2/100\n",
      "60000/60000 [==============================] - 2s 32us/step - loss: 0.2541 - val_loss: 0.2437\n",
      "Epoch 3/100\n",
      "60000/60000 [==============================] - 2s 31us/step - loss: 0.2339 - val_loss: 0.2246\n",
      "Epoch 4/100\n",
      "60000/60000 [==============================] - 2s 32us/step - loss: 0.2185 - val_loss: 0.2102\n",
      "Epoch 5/100\n",
      "60000/60000 [==============================] - 2s 31us/step - loss: 0.2048 - val_loss: 0.1983\n",
      "Epoch 6/100\n",
      "60000/60000 [==============================] - 2s 32us/step - loss: 0.1951 - val_loss: 0.1903\n",
      "Epoch 7/100\n",
      "60000/60000 [==============================] - 2s 32us/step - loss: 0.1871 - val_loss: 0.1817\n",
      "Epoch 8/100\n",
      "60000/60000 [==============================] - 2s 33us/step - loss: 0.1798 - val_loss: 0.1753\n",
      "Epoch 9/100\n",
      "60000/60000 [==============================] - 2s 35us/step - loss: 0.1736 - val_loss: 0.1694\n",
      "Epoch 10/100\n",
      "60000/60000 [==============================] - 2s 35us/step - loss: 0.1679 - val_loss: 0.1633\n",
      "Epoch 11/100\n",
      "60000/60000 [==============================] - 2s 36us/step - loss: 0.1627 - val_loss: 0.1601\n",
      "Epoch 12/100\n",
      "60000/60000 [==============================] - 2s 38us/step - loss: 0.1589 - val_loss: 0.1549\n",
      "Epoch 13/100\n",
      "60000/60000 [==============================] - 2s 37us/step - loss: 0.1561 - val_loss: 0.1580\n",
      "Epoch 14/100\n",
      "60000/60000 [==============================] - 2s 34us/step - loss: 0.1532 - val_loss: 0.1505\n",
      "Epoch 15/100\n",
      "60000/60000 [==============================] - 2s 31us/step - loss: 0.1507 - val_loss: 0.1484\n",
      "Epoch 16/100\n",
      "60000/60000 [==============================] - 2s 32us/step - loss: 0.1485 - val_loss: 0.1460\n",
      "Epoch 17/100\n",
      "60000/60000 [==============================] - 2s 35us/step - loss: 0.1463 - val_loss: 0.1445\n",
      "Epoch 18/100\n",
      "60000/60000 [==============================] - 2s 33us/step - loss: 0.1441 - val_loss: 0.1430\n",
      "Epoch 19/100\n",
      "60000/60000 [==============================] - 2s 33us/step - loss: 0.1424 - val_loss: 0.1391\n",
      "Epoch 20/100\n",
      "60000/60000 [==============================] - 2s 33us/step - loss: 0.1401 - val_loss: 0.1381\n",
      "Epoch 21/100\n",
      "60000/60000 [==============================] - 2s 34us/step - loss: 0.1378 - val_loss: 0.1347\n",
      "Epoch 22/100\n",
      "60000/60000 [==============================] - 2s 33us/step - loss: 0.1358 - val_loss: 0.1361\n",
      "Epoch 23/100\n",
      "60000/60000 [==============================] - 2s 34us/step - loss: 0.1340 - val_loss: 0.1309\n",
      "Epoch 24/100\n",
      "60000/60000 [==============================] - 2s 34us/step - loss: 0.1324 - val_loss: 0.1312\n",
      "Epoch 25/100\n",
      "60000/60000 [==============================] - 2s 34us/step - loss: 0.1312 - val_loss: 0.1295\n",
      "Epoch 26/100\n",
      "60000/60000 [==============================] - 2s 35us/step - loss: 0.1298 - val_loss: 0.1275\n",
      "Epoch 27/100\n",
      "60000/60000 [==============================] - 2s 36us/step - loss: 0.1288 - val_loss: 0.1259\n",
      "Epoch 28/100\n",
      "60000/60000 [==============================] - 2s 38us/step - loss: 0.1277 - val_loss: 0.1265\n",
      "Epoch 29/100\n",
      "60000/60000 [==============================] - 2s 36us/step - loss: 0.1266 - val_loss: 0.1241\n",
      "Epoch 30/100\n",
      "60000/60000 [==============================] - 2s 36us/step - loss: 0.1255 - val_loss: 0.1240\n",
      "Epoch 31/100\n",
      "60000/60000 [==============================] - 2s 36us/step - loss: 0.1246 - val_loss: 0.1232\n",
      "Epoch 32/100\n",
      "60000/60000 [==============================] - 2s 36us/step - loss: 0.1236 - val_loss: 0.1233\n",
      "Epoch 33/100\n",
      "60000/60000 [==============================] - 2s 36us/step - loss: 0.1229 - val_loss: 0.1212\n",
      "Epoch 34/100\n",
      "60000/60000 [==============================] - 2s 36us/step - loss: 0.1219 - val_loss: 0.1194\n",
      "Epoch 35/100\n",
      "60000/60000 [==============================] - 2s 35us/step - loss: 0.1212 - val_loss: 0.1203\n",
      "Epoch 36/100\n",
      "60000/60000 [==============================] - 2s 36us/step - loss: 0.1204 - val_loss: 0.1185\n",
      "Epoch 37/100\n",
      "60000/60000 [==============================] - 2s 35us/step - loss: 0.1197 - val_loss: 0.1178\n",
      "Epoch 38/100\n",
      "60000/60000 [==============================] - 2s 35us/step - loss: 0.1189 - val_loss: 0.1170\n",
      "Epoch 39/100\n",
      "60000/60000 [==============================] - 2s 35us/step - loss: 0.1182 - val_loss: 0.1153\n",
      "Epoch 40/100\n",
      "60000/60000 [==============================] - 2s 35us/step - loss: 0.1176 - val_loss: 0.1164\n",
      "Epoch 41/100\n",
      "60000/60000 [==============================] - 2s 35us/step - loss: 0.1169 - val_loss: 0.1144\n",
      "Epoch 42/100\n",
      "60000/60000 [==============================] - 2s 35us/step - loss: 0.1163 - val_loss: 0.1142\n",
      "Epoch 43/100\n",
      "60000/60000 [==============================] - 2s 38us/step - loss: 0.1157 - val_loss: 0.1141\n",
      "Epoch 44/100\n",
      "60000/60000 [==============================] - 2s 36us/step - loss: 0.1153 - val_loss: 0.1126\n",
      "Epoch 45/100\n",
      "60000/60000 [==============================] - 2s 35us/step - loss: 0.1147 - val_loss: 0.1132\n",
      "Epoch 46/100\n",
      "60000/60000 [==============================] - 2s 35us/step - loss: 0.1141 - val_loss: 0.1130\n",
      "Epoch 47/100\n",
      "60000/60000 [==============================] - 2s 35us/step - loss: 0.1136 - val_loss: 0.1124\n",
      "Epoch 48/100\n",
      "60000/60000 [==============================] - 2s 36us/step - loss: 0.1131 - val_loss: 0.1124\n",
      "Epoch 49/100\n",
      "60000/60000 [==============================] - 2s 35us/step - loss: 0.1127 - val_loss: 0.1105\n",
      "Epoch 50/100\n",
      "60000/60000 [==============================] - 2s 35us/step - loss: 0.1123 - val_loss: 0.1118\n",
      "Epoch 51/100\n",
      "60000/60000 [==============================] - 2s 34us/step - loss: 0.1117 - val_loss: 0.1119\n",
      "Epoch 52/100\n",
      "60000/60000 [==============================] - 2s 35us/step - loss: 0.1114 - val_loss: 0.1101\n",
      "Epoch 53/100\n",
      "60000/60000 [==============================] - 2s 34us/step - loss: 0.1109 - val_loss: 0.1115\n",
      "Epoch 54/100\n",
      "60000/60000 [==============================] - 2s 35us/step - loss: 0.1105 - val_loss: 0.1113\n",
      "Epoch 55/100\n",
      "60000/60000 [==============================] - 2s 36us/step - loss: 0.1102 - val_loss: 0.1105\n",
      "Epoch 56/100\n",
      "60000/60000 [==============================] - 2s 35us/step - loss: 0.1098 - val_loss: 0.1083\n",
      "Epoch 57/100\n",
      "60000/60000 [==============================] - 2s 35us/step - loss: 0.1093 - val_loss: 0.1077\n",
      "Epoch 58/100\n",
      "60000/60000 [==============================] - 2s 37us/step - loss: 0.1091 - val_loss: 0.1078\n",
      "Epoch 59/100\n",
      "60000/60000 [==============================] - 2s 35us/step - loss: 0.1087 - val_loss: 0.1063\n",
      "Epoch 60/100\n",
      "60000/60000 [==============================] - 2s 35us/step - loss: 0.1083 - val_loss: 0.1065\n",
      "Epoch 61/100\n",
      "60000/60000 [==============================] - 2s 35us/step - loss: 0.1080 - val_loss: 0.1057\n",
      "Epoch 62/100\n",
      "60000/60000 [==============================] - 2s 34us/step - loss: 0.1077 - val_loss: 0.1072\n",
      "Epoch 63/100\n",
      "60000/60000 [==============================] - 2s 35us/step - loss: 0.1073 - val_loss: 0.1064\n",
      "Epoch 64/100\n",
      "60000/60000 [==============================] - 2s 35us/step - loss: 0.1070 - val_loss: 0.1073\n",
      "Epoch 65/100\n",
      "60000/60000 [==============================] - 2s 35us/step - loss: 0.1066 - val_loss: 0.1049\n",
      "Epoch 66/100\n",
      "60000/60000 [==============================] - 2s 35us/step - loss: 0.1064 - val_loss: 0.1043\n",
      "Epoch 67/100\n",
      "60000/60000 [==============================] - 2s 35us/step - loss: 0.1061 - val_loss: 0.1046\n",
      "Epoch 68/100\n",
      "60000/60000 [==============================] - 2s 35us/step - loss: 0.1058 - val_loss: 0.1057\n",
      "Epoch 69/100\n",
      "60000/60000 [==============================] - 2s 35us/step - loss: 0.1055 - val_loss: 0.1040\n",
      "Epoch 70/100\n",
      "60000/60000 [==============================] - 2s 35us/step - loss: 0.1052 - val_loss: 0.1044\n",
      "Epoch 71/100\n",
      "60000/60000 [==============================] - 2s 35us/step - loss: 0.1050 - val_loss: 0.1050\n",
      "Epoch 72/100\n",
      "60000/60000 [==============================] - 2s 35us/step - loss: 0.1046 - val_loss: 0.1042\n",
      "Epoch 73/100\n",
      "60000/60000 [==============================] - 2s 37us/step - loss: 0.1044 - val_loss: 0.1038\n",
      "Epoch 74/100\n",
      "60000/60000 [==============================] - 2s 36us/step - loss: 0.1042 - val_loss: 0.1016\n",
      "Epoch 75/100\n",
      "60000/60000 [==============================] - 2s 36us/step - loss: 0.1038 - val_loss: 0.1024\n",
      "Epoch 76/100\n",
      "60000/60000 [==============================] - 2s 36us/step - loss: 0.1037 - val_loss: 0.1031\n",
      "Epoch 77/100\n",
      "60000/60000 [==============================] - 2s 35us/step - loss: 0.1035 - val_loss: 0.1034\n",
      "Epoch 78/100\n",
      "60000/60000 [==============================] - 2s 36us/step - loss: 0.1033 - val_loss: 0.1050\n",
      "Epoch 79/100\n",
      "60000/60000 [==============================] - 2s 36us/step - loss: 0.1029 - val_loss: 0.1018\n",
      "Epoch 80/100\n",
      "60000/60000 [==============================] - 2s 35us/step - loss: 0.1026 - val_loss: 0.1041\n",
      "Epoch 81/100\n",
      "60000/60000 [==============================] - 2s 36us/step - loss: 0.1024 - val_loss: 0.1006\n",
      "Epoch 82/100\n",
      "60000/60000 [==============================] - 2s 35us/step - loss: 0.1022 - val_loss: 0.1017\n",
      "Epoch 83/100\n",
      "60000/60000 [==============================] - 2s 36us/step - loss: 0.1019 - val_loss: 0.1015\n",
      "Epoch 84/100\n",
      "60000/60000 [==============================] - 2s 37us/step - loss: 0.1018 - val_loss: 0.1005\n",
      "Epoch 85/100\n",
      "60000/60000 [==============================] - 2s 36us/step - loss: 0.1015 - val_loss: 0.0998\n",
      "Epoch 86/100\n",
      "60000/60000 [==============================] - 2s 36us/step - loss: 0.1012 - val_loss: 0.0999\n",
      "Epoch 87/100\n",
      "60000/60000 [==============================] - 2s 38us/step - loss: 0.1010 - val_loss: 0.1017\n",
      "Epoch 88/100\n",
      "60000/60000 [==============================] - 2s 39us/step - loss: 0.1009 - val_loss: 0.1007\n",
      "Epoch 89/100\n",
      "60000/60000 [==============================] - 2s 37us/step - loss: 0.1006 - val_loss: 0.0997\n",
      "Epoch 90/100\n",
      "60000/60000 [==============================] - 2s 37us/step - loss: 0.1004 - val_loss: 0.0987\n",
      "Epoch 91/100\n",
      "60000/60000 [==============================] - 2s 37us/step - loss: 0.1002 - val_loss: 0.0992\n",
      "Epoch 92/100\n",
      "60000/60000 [==============================] - 2s 37us/step - loss: 0.1000 - val_loss: 0.1001\n",
      "Epoch 93/100\n",
      "60000/60000 [==============================] - 2s 38us/step - loss: 0.0998 - val_loss: 0.0984\n",
      "Epoch 94/100\n",
      "60000/60000 [==============================] - 2s 37us/step - loss: 0.0996 - val_loss: 0.0992\n",
      "Epoch 95/100\n",
      "60000/60000 [==============================] - 2s 37us/step - loss: 0.0994 - val_loss: 0.0977\n",
      "Epoch 96/100\n",
      "60000/60000 [==============================] - 2s 37us/step - loss: 0.0992 - val_loss: 0.0981\n",
      "Epoch 97/100\n",
      "60000/60000 [==============================] - 2s 36us/step - loss: 0.0991 - val_loss: 0.1003\n",
      "Epoch 98/100\n",
      "60000/60000 [==============================] - 2s 35us/step - loss: 0.0989 - val_loss: 0.0976\n",
      "Epoch 99/100\n",
      "60000/60000 [==============================] - 2s 35us/step - loss: 0.0987 - val_loss: 0.0959\n",
      "Epoch 100/100\n",
      "60000/60000 [==============================] - 2s 35us/step - loss: 0.0986 - val_loss: 0.0972\n"
     ]
    },
    {
     "data": {
      "text/plain": [
       "<keras.callbacks.History at 0x132c9ec50>"
      ]
     },
     "execution_count": 31,
     "metadata": {},
     "output_type": "execute_result"
    }
   ],
   "source": [
    "autoencoder = Model(input_img, decoded)\n",
    "autoencoder.compile(optimizer='adadelta', loss='binary_crossentropy')\n",
    "\n",
    "autoencoder.fit(x_train, x_train,\n",
    "                epochs=100,\n",
    "                batch_size=256,\n",
    "                shuffle=True,\n",
    "                validation_data=(x_test, x_test))"
   ]
  },
  {
   "cell_type": "code",
   "execution_count": 35,
   "metadata": {},
   "outputs": [
    {
     "data": {
      "image/png": "[encoded data removed]",
      "text/plain": [
       "<Figure size 1440x288 with 20 Axes>"
      ]
     },
     "metadata": {
      "needs_background": "light"
     },
     "output_type": "display_data"
    }
   ],
   "source": [
    "# encode and decode some digits\n",
    "# note that we take them from the *test* set\n",
    "encoded_imgs = encoder.predict(x_test)\n",
    "decoded_imgs = decoder.predict(encoded_imgs)\n",
    "make_plot()"
   ]
  },
  {
   "cell_type": "markdown",
   "metadata": {},
   "source": [
    "### Convolutional autoencoder\n",
    "Since our inputs are images, it makes sense to use convolutional neural networks (convnets) as encoders and decoders. In practical settings, autoencoders applied to images are always convolutional autoencoders --they simply perform much better.\n",
    "\n",
    "Let's implement one. The encoder will consist in a stack of Conv2D and MaxPooling2D layers (max pooling being used for spatial down-sampling), while the decoder will consist in a stack of Conv2D and UpSampling2D layers."
   ]
  },
  {
   "cell_type": "code",
   "execution_count": 36,
   "metadata": {},
   "outputs": [],
   "source": [
    "from keras.layers import Input, Dense, Conv2D, MaxPooling2D, UpSampling2D\n",
    "from keras.models import Model\n",
    "from keras import backend as K\n",
    "\n",
    "input_img = Input(shape=(28, 28, 1))  # adapt this if using `channels_first` image data format\n",
    "\n",
    "x = Conv2D(16, (3, 3), activation='relu', padding='same')(input_img)\n",
    "x = MaxPooling2D((2, 2), padding='same')(x)\n",
    "x = Conv2D(8, (3, 3), activation='relu', padding='same')(x)\n",
    "x = MaxPooling2D((2, 2), padding='same')(x)\n",
    "x = Conv2D(8, (3, 3), activation='relu', padding='same')(x)\n",
    "encoded = MaxPooling2D((2, 2), padding='same')(x)\n",
    "\n",
    "# at this point the representation is (4, 4, 8) i.e. 128-dimensional\n",
    "\n",
    "x = Conv2D(8, (3, 3), activation='relu', padding='same')(encoded)\n",
    "x = UpSampling2D((2, 2))(x)\n",
    "x = Conv2D(8, (3, 3), activation='relu', padding='same')(x)\n",
    "x = UpSampling2D((2, 2))(x)\n",
    "x = Conv2D(16, (3, 3), activation='relu')(x)\n",
    "x = UpSampling2D((2, 2))(x)\n",
    "decoded = Conv2D(1, (3, 3), activation='sigmoid', padding='same')(x)\n",
    "\n",
    "autoencoder = Model(input_img, decoded)\n",
    "autoencoder.compile(optimizer='adadelta', loss='binary_crossentropy')"
   ]
  },
  {
   "cell_type": "code",
   "execution_count": 40,
   "metadata": {},
   "outputs": [],
   "source": [
    "(x_train, _), (x_test, _) = mnist.load_data()\n",
    "\n",
    "x_train = x_train.astype('float32') / 255.\n",
    "x_test = x_test.astype('float32') / 255.\n",
    "x_train = np.reshape(x_train, (len(x_train), 28, 28, 1))  # adapt this if using `channels_first` image data format\n",
    "x_test = np.reshape(x_test, (len(x_test), 28, 28, 1))  # adapt this if using `channels_first` image data format"
   ]
  },
  {
   "cell_type": "markdown",
   "metadata": {},
   "source": [
    "To train it, we will use the original MNIST digits with shape (samples, 3, 28, 28), and we will just normalize pixel values between 0 and 1.\n",
    "\n",
    "Let's train this model for 50 epochs. For the sake of demonstrating how to visualize the results of a model during training, we will be using **the TensorFlow backend** and the TensorBoard callback.\n",
    "\n",
    "```shell\n",
    "tensorboard --logdir=/Users/esousa/autoencoder\n",
    "```\n",
    "\n",
    "Then let's train our model. In the callbacks list we pass an instance of the TensorBoard callback. After every epoch, this callback will write logs to /tmp/autoencoder, which can be read by our TensorBoard server."
   ]
  },
  {
   "cell_type": "code",
   "execution_count": 41,
   "metadata": {},
   "outputs": [
    {
     "name": "stdout",
     "output_type": "stream",
     "text": [
      "Train on 60000 samples, validate on 10000 samples\n",
      "Epoch 1/50\n",
      "60000/60000 [==============================] - 51s 855us/step - loss: 0.2115 - val_loss: 0.1589\n",
      "Epoch 2/50\n",
      "60000/60000 [==============================] - 50s 840us/step - loss: 0.1546 - val_loss: 0.1436\n",
      "Epoch 3/50\n",
      "60000/60000 [==============================] - 49s 822us/step - loss: 0.1413 - val_loss: 0.1348\n",
      "Epoch 4/50\n",
      "60000/60000 [==============================] - 51s 852us/step - loss: 0.1341 - val_loss: 0.1316\n",
      "Epoch 5/50\n",
      "60000/60000 [==============================] - 48s 806us/step - loss: 0.1290 - val_loss: 0.1275\n",
      "Epoch 6/50\n",
      "60000/60000 [==============================] - 50s 831us/step - loss: 0.1251 - val_loss: 0.1228\n",
      "Epoch 7/50\n",
      "60000/60000 [==============================] - 52s 869us/step - loss: 0.1221 - val_loss: 0.1186\n",
      "Epoch 8/50\n",
      "60000/60000 [==============================] - 50s 835us/step - loss: 0.1195 - val_loss: 0.1192\n",
      "Epoch 9/50\n",
      "60000/60000 [==============================] - 50s 840us/step - loss: 0.1176 - val_loss: 0.1155\n",
      "Epoch 10/50\n",
      "60000/60000 [==============================] - 52s 864us/step - loss: 0.1157 - val_loss: 0.1126\n",
      "Epoch 11/50\n",
      "60000/60000 [==============================] - 51s 856us/step - loss: 0.1143 - val_loss: 0.1103\n",
      "Epoch 12/50\n",
      "60000/60000 [==============================] - 52s 871us/step - loss: 0.1130 - val_loss: 0.1127\n",
      "Epoch 13/50\n",
      "60000/60000 [==============================] - 53s 879us/step - loss: 0.1117 - val_loss: 0.1101\n",
      "Epoch 14/50\n",
      "60000/60000 [==============================] - 53s 886us/step - loss: 0.1104 - val_loss: 0.1090\n",
      "Epoch 15/50\n",
      "60000/60000 [==============================] - 52s 860us/step - loss: 0.1094 - val_loss: 0.1107\n",
      "Epoch 16/50\n",
      "60000/60000 [==============================] - 50s 837us/step - loss: 0.1083 - val_loss: 0.1059\n",
      "Epoch 17/50\n",
      "60000/60000 [==============================] - 51s 846us/step - loss: 0.1079 - val_loss: 0.1064\n",
      "Epoch 18/50\n",
      "60000/60000 [==============================] - 51s 843us/step - loss: 0.1074 - val_loss: 0.1051\n",
      "Epoch 19/50\n",
      "60000/60000 [==============================] - 50s 838us/step - loss: 0.1066 - val_loss: 0.1069\n",
      "Epoch 20/50\n",
      "60000/60000 [==============================] - 50s 836us/step - loss: 0.1061 - val_loss: 0.1027\n",
      "Epoch 21/50\n",
      "60000/60000 [==============================] - 51s 844us/step - loss: 0.1054 - val_loss: 0.1036\n",
      "Epoch 22/50\n",
      "60000/60000 [==============================] - 60s 1ms/step - loss: 0.1048 - val_loss: 0.1033\n",
      "Epoch 23/50\n",
      "60000/60000 [==============================] - 61s 1ms/step - loss: 0.1045 - val_loss: 0.1042\n",
      "Epoch 24/50\n",
      "60000/60000 [==============================] - 62s 1ms/step - loss: 0.1040 - val_loss: 0.1018\n",
      "Epoch 25/50\n",
      "60000/60000 [==============================] - 62s 1ms/step - loss: 0.1038 - val_loss: 0.1018\n",
      "Epoch 26/50\n",
      "60000/60000 [==============================] - 62s 1ms/step - loss: 0.1033 - val_loss: 0.1032\n",
      "Epoch 27/50\n",
      "60000/60000 [==============================] - 62s 1ms/step - loss: 0.1029 - val_loss: 0.1012\n",
      "Epoch 28/50\n",
      "60000/60000 [==============================] - 60s 1ms/step - loss: 0.1007 - val_loss: 0.1018\n",
      "Epoch 37/50\n",
      "60000/60000 [==============================] - 59s 989us/step - loss: 0.1005 - val_loss: 0.0970\n",
      "Epoch 38/50\n",
      "60000/60000 [==============================] - 62s 1ms/step - loss: 0.1003 - val_loss: 0.0972\n",
      "Epoch 39/50\n",
      "60000/60000 [==============================] - 62s 1ms/step - loss: 0.1001 - val_loss: 0.1005\n",
      "Epoch 40/50\n",
      "60000/60000 [==============================] - 65s 1ms/step - loss: 0.0998 - val_loss: 0.0976\n",
      "Epoch 42/50\n",
      "60000/60000 [==============================] - 65s 1ms/step - loss: 0.0995 - val_loss: 0.0977\n",
      "Epoch 43/50\n",
      "60000/60000 [==============================] - 65s 1ms/step - loss: 0.0993 - val_loss: 0.1003\n",
      "Epoch 44/50\n",
      "60000/60000 [==============================] - 65s 1ms/step - loss: 0.0992 - val_loss: 0.0993\n",
      "Epoch 45/50\n",
      "60000/60000 [==============================] - 65s 1ms/step - loss: 0.0990 - val_loss: 0.0970\n",
      "Epoch 46/50\n",
      "60000/60000 [==============================] - 66s 1ms/step - loss: 0.0989 - val_loss: 0.0977\n",
      "Epoch 47/50\n",
      "60000/60000 [==============================] - 63s 1ms/step - loss: 0.0987 - val_loss: 0.0971\n",
      "Epoch 48/50\n",
      "60000/60000 [==============================] - 61s 1ms/step - loss: 0.0984 - val_loss: 0.0997\n",
      "Epoch 49/50\n",
      "60000/60000 [==============================] - 61s 1ms/step - loss: 0.0982 - val_loss: 0.0968\n",
      "Epoch 50/50\n",
      "60000/60000 [==============================] - 62s 1ms/step - loss: 0.0981 - val_loss: 0.0966\n"
     ]
    },
    {
     "data": {
      "text/plain": [
       "<keras.callbacks.History at 0x130d92ac8>"
      ]
     },
     "execution_count": 41,
     "metadata": {},
     "output_type": "execute_result"
    }
   ],
   "source": [
    "from keras.callbacks import TensorBoard\n",
    "\n",
    "autoencoder.fit(x_train, x_train,\n",
    "                epochs=50,\n",
    "                batch_size=128,\n",
    "                shuffle=True,\n",
    "                validation_data=(x_test, x_test),\n",
    "                callbacks=[TensorBoard(log_dir='/Users/esousa/autoencoder')])"
   ]
  },
  {
   "cell_type": "markdown",
   "metadata": {},
   "source": [
    "This allows us to monitor training in the TensorBoard web interface **(by navighating to http://0.0.0.0:6006)**"
   ]
  },
  {
   "cell_type": "markdown",
   "metadata": {},
   "source": [
    "The model converges to a loss of 0.094, significantly better than our previous models (this is in large part due to the higher entropic capacity of the encoded representation, 128 dimensions vs. 32 previously). Let's take a look at the reconstructed digits:"
   ]
  },
  {
   "cell_type": "code",
   "execution_count": 46,
   "metadata": {},
   "outputs": [],
   "source": [
    "decoded_imgs = autoencoder.predict(x_test)"
   ]
  },
  {
   "cell_type": "code",
   "execution_count": 47,
   "metadata": {},
   "outputs": [
    {
     "data": {
      "image/png": "[encoded data removed]",
      "text/plain": [
       "<Figure size 1440x288 with 20 Axes>"
      ]
     },
     "metadata": {
      "needs_background": "light"
     },
     "output_type": "display_data"
    }
   ],
   "source": [
    "make_plot()"
   ]
  },
  {
   "cell_type": "markdown",
   "metadata": {},
   "source": [
    "We can also have a look at the 128-dimensional encoded representations. These representations are 8x4x4, so we reshape them to 4x32 in order to be able to display them as grayscale images."
   ]
  },
  {
   "cell_type": "code",
   "execution_count": 50,
   "metadata": {},
   "outputs": [
    {
     "data": {
      "image/png": "[encoded data removed]",
      "text/plain": [
       "<Figure size 1440x576 with 10 Axes>"
      ]
     },
     "metadata": {
      "needs_background": "light"
     },
     "output_type": "display_data"
    }
   ],
   "source": [
    "n = 10\n",
    "plt.figure(figsize=(20, 8))\n",
    "for i in range(n):\n",
    "    ax = plt.subplot(1, n, i+1)\n",
    "    plt.imshow(encoded_imgs[i].reshape(4, 8).T)\n",
    "    plt.gray()\n",
    "    ax.get_xaxis().set_visible(False)\n",
    "    ax.get_yaxis().set_visible(False)\n",
    "plt.show()"
   ]
  },
  {
   "cell_type": "markdown",
   "metadata": {},
   "source": [
    "### Application to image denoising\n",
    "\n",
    "Let's put our convolutional autoencoder to work on an image denoising problem. It's simple: we will train the autoencoder to map noisy digits images to clean digits images.\n",
    "\n",
    "Here's how we will generate synthetic noisy digits: we just apply a gaussian noise matrix and clip the images between 0 and 1."
   ]
  },
  {
   "cell_type": "code",
   "execution_count": 51,
   "metadata": {},
   "outputs": [],
   "source": [
    "(x_train, _), (x_test, _) = mnist.load_data()\n",
    "\n",
    "x_train = x_train.astype('float32') / 255.\n",
    "x_test = x_test.astype('float32') / 255.\n",
    "x_train = np.reshape(x_train, (len(x_train), 28, 28, 1))  # adapt this if using `channels_first` image data format\n",
    "x_test = np.reshape(x_test, (len(x_test), 28, 28, 1))  # adapt this if using `channels_first` image data format\n",
    "\n",
    "noise_factor = 0.5\n",
    "x_train_noisy = x_train + noise_factor * np.random.normal(loc=0.0, scale=1.0, size=x_train.shape) \n",
    "x_test_noisy = x_test + noise_factor * np.random.normal(loc=0.0, scale=1.0, size=x_test.shape) \n",
    "\n",
    "x_train_noisy = np.clip(x_train_noisy, 0., 1.) # limit values to 0-1\n",
    "x_test_noisy = np.clip(x_test_noisy, 0., 1.)"
   ]
  },
  {
   "cell_type": "markdown",
   "metadata": {},
   "source": [
    "Here's what the noisy digits look like:"
   ]
  },
  {
   "cell_type": "code",
   "execution_count": 54,
   "metadata": {},
   "outputs": [
    {
     "data": {
      "image/png": "[encoded data removed]",
      "text/plain": [
       "<Figure size 1440x144 with 10 Axes>"
      ]
     },
     "metadata": {
      "needs_background": "light"
     },
     "output_type": "display_data"
    }
   ],
   "source": [
    "n = 10\n",
    "plt.figure(figsize=(20, 2))\n",
    "for i in range(n):\n",
    "    ax = plt.subplot(1, n, i+1)\n",
    "    plt.imshow(x_test_noisy[i].reshape(28, 28))\n",
    "    plt.gray()\n",
    "    ax.get_xaxis().set_visible(False)\n",
    "    ax.get_yaxis().set_visible(False)\n",
    "plt.show()"
   ]
  },
  {
   "cell_type": "markdown",
   "metadata": {},
   "source": [
    "If you squint you can still recognize them, but barely. Can our autoencoder learn to recover the original digits? Let's find out.\n",
    "\n",
    "Compared to the previous convolutional autoencoder, in order to improve the quality of the reconstructed, we'll use a slightly different model with more filters per layer:"
   ]
  },
  {
   "cell_type": "code",
   "execution_count": 55,
   "metadata": {},
   "outputs": [],
   "source": [
    "input_img = Input(shape=(28, 28, 1))  # adapt this if using `channels_first` image data format\n",
    "\n",
    "x = Conv2D(32, (3, 3), activation='relu', padding='same')(input_img)\n",
    "x = MaxPooling2D((2, 2), padding='same')(x)\n",
    "x = Conv2D(32, (3, 3), activation='relu', padding='same')(x)\n",
    "encoded = MaxPooling2D((2, 2), padding='same')(x)\n",
    "\n",
    "# at this point the representation is (7, 7, 32)\n",
    "\n",
    "x = Conv2D(32, (3, 3), activation='relu', padding='same')(encoded)\n",
    "x = UpSampling2D((2, 2))(x)\n",
    "x = Conv2D(32, (3, 3), activation='relu', padding='same')(x)\n",
    "x = UpSampling2D((2, 2))(x)\n",
    "decoded = Conv2D(1, (3, 3), activation='sigmoid', padding='same')(x)\n",
    "\n",
    "autoencoder = Model(input_img, decoded)\n",
    "autoencoder.compile(optimizer='adadelta', loss='binary_crossentropy')"
   ]
  },
  {
   "cell_type": "markdown",
   "metadata": {},
   "source": [
    "Let's train it for 100 epochs:"
   ]
  },
  {
   "cell_type": "code",
   "execution_count": 56,
   "metadata": {},
   "outputs": [
    {
     "name": "stdout",
     "output_type": "stream",
     "text": [
      "Train on 60000 samples, validate on 10000 samples\n",
      "Epoch 1/100\n",
      "60000/60000 [==============================] - 98s 2ms/step - loss: 0.1757 - val_loss: 0.1267\n",
      "Epoch 2/100\n",
      "60000/60000 [==============================] - 98s 2ms/step - loss: 0.1179 - val_loss: 0.1120\n",
      "Epoch 3/100\n",
      "60000/60000 [==============================] - 95s 2ms/step - loss: 0.1110 - val_loss: 0.1062\n",
      "Epoch 4/100\n",
      "60000/60000 [==============================] - 96s 2ms/step - loss: 0.1074 - val_loss: 0.1044\n",
      "Epoch 5/100\n",
      "60000/60000 [==============================] - 93s 2ms/step - loss: 0.1052 - val_loss: 0.1036\n",
      "Epoch 6/100\n",
      "60000/60000 [==============================] - 92s 2ms/step - loss: 0.1035 - val_loss: 0.1010\n",
      "Epoch 7/100\n",
      "60000/60000 [==============================] - 93s 2ms/step - loss: 0.1024 - val_loss: 0.1035\n",
      "Epoch 8/100\n",
      "60000/60000 [==============================] - 95s 2ms/step - loss: 0.1016 - val_loss: 0.1016\n",
      "Epoch 9/100\n",
      "60000/60000 [==============================] - 94s 2ms/step - loss: 0.1011 - val_loss: 0.1003\n",
      "Epoch 10/100\n",
      "60000/60000 [==============================] - 94s 2ms/step - loss: 0.1006 - val_loss: 0.0995\n",
      "Epoch 11/100\n",
      "60000/60000 [==============================] - 94s 2ms/step - loss: 0.1001 - val_loss: 0.0988\n",
      "Epoch 12/100\n",
      "60000/60000 [==============================] - 95s 2ms/step - loss: 0.0997 - val_loss: 0.0993\n",
      "Epoch 13/100\n",
      "60000/60000 [==============================] - 96s 2ms/step - loss: 0.0994 - val_loss: 0.0983\n",
      "Epoch 14/100\n",
      "60000/60000 [==============================] - 96s 2ms/step - loss: 0.0990 - val_loss: 0.0985\n",
      "Epoch 15/100\n",
      "60000/60000 [==============================] - 95s 2ms/step - loss: 0.0987 - val_loss: 0.0978\n",
      "Epoch 16/100\n",
      "60000/60000 [==============================] - 96s 2ms/step - loss: 0.0986 - val_loss: 0.0988\n",
      "Epoch 17/100\n",
      "60000/60000 [==============================] - 94s 2ms/step - loss: 0.0983 - val_loss: 0.0972\n",
      "Epoch 18/100\n",
      "60000/60000 [==============================] - 91s 2ms/step - loss: 0.0982 - val_loss: 0.0981\n",
      "Epoch 19/100\n",
      "60000/60000 [==============================] - 94s 2ms/step - loss: 0.0979 - val_loss: 0.0967\n",
      "Epoch 20/100\n",
      "60000/60000 [==============================] - 94s 2ms/step - loss: 0.0977 - val_loss: 0.0973\n",
      "Epoch 21/100\n",
      "60000/60000 [==============================] - 94s 2ms/step - loss: 0.0977 - val_loss: 0.0971\n",
      "Epoch 22/100\n",
      "60000/60000 [==============================] - 95s 2ms/step - loss: 0.0976 - val_loss: 0.0974\n",
      "Epoch 23/100\n",
      "60000/60000 [==============================] - 95s 2ms/step - loss: 0.0973 - val_loss: 0.0965\n",
      "Epoch 24/100\n",
      "60000/60000 [==============================] - 95s 2ms/step - loss: 0.0973 - val_loss: 0.0970\n",
      "Epoch 25/100\n",
      "60000/60000 [==============================] - 96s 2ms/step - loss: 0.0970 - val_loss: 0.0974\n",
      "Epoch 26/100\n",
      "60000/60000 [==============================] - 95s 2ms/step - loss: 0.0970 - val_loss: 0.0965\n",
      "Epoch 27/100\n",
      "60000/60000 [==============================] - 94s 2ms/step - loss: 0.0969 - val_loss: 0.0966\n",
      "Epoch 28/100\n",
      "60000/60000 [==============================] - 92s 2ms/step - loss: 0.0968 - val_loss: 0.0967\n",
      "Epoch 29/100\n",
      "60000/60000 [==============================] - 92s 2ms/step - loss: 0.0966 - val_loss: 0.0955\n",
      "Epoch 30/100\n",
      "60000/60000 [==============================] - 93s 2ms/step - loss: 0.0965 - val_loss: 0.0955\n",
      "Epoch 31/100\n",
      "60000/60000 [==============================] - 94s 2ms/step - loss: 0.0965 - val_loss: 0.0966\n",
      "Epoch 32/100\n",
      "60000/60000 [==============================] - 93s 2ms/step - loss: 0.0963 - val_loss: 0.0955\n",
      "Epoch 33/100\n",
      "60000/60000 [==============================] - 94s 2ms/step - loss: 0.0964 - val_loss: 0.0958\n",
      "Epoch 34/100\n",
      "60000/60000 [==============================] - 93s 2ms/step - loss: 0.0962 - val_loss: 0.0963\n",
      "Epoch 35/100\n",
      "60000/60000 [==============================] - 95s 2ms/step - loss: 0.0962 - val_loss: 0.0954\n",
      "Epoch 36/100\n",
      "60000/60000 [==============================] - 94s 2ms/step - loss: 0.0961 - val_loss: 0.0956\n",
      "Epoch 37/100\n",
      "60000/60000 [==============================] - 94s 2ms/step - loss: 0.0960 - val_loss: 0.0955\n",
      "Epoch 38/100\n",
      "60000/60000 [==============================] - 94s 2ms/step - loss: 0.0960 - val_loss: 0.0955\n",
      "Epoch 39/100\n",
      "60000/60000 [==============================] - 94s 2ms/step - loss: 0.0960 - val_loss: 0.0949\n",
      "Epoch 40/100\n",
      "60000/60000 [==============================] - 94s 2ms/step - loss: 0.0959 - val_loss: 0.0948\n",
      "Epoch 41/100\n",
      "60000/60000 [==============================] - 93s 2ms/step - loss: 0.0958 - val_loss: 0.0949\n",
      "Epoch 42/100\n",
      "60000/60000 [==============================] - 93s 2ms/step - loss: 0.0958 - val_loss: 0.0951\n",
      "Epoch 43/100\n",
      "60000/60000 [==============================] - 93s 2ms/step - loss: 0.0957 - val_loss: 0.0957\n",
      "Epoch 44/100\n",
      "60000/60000 [==============================] - 93s 2ms/step - loss: 0.0957 - val_loss: 0.0950\n",
      "Epoch 45/100\n",
      "60000/60000 [==============================] - 93s 2ms/step - loss: 0.0956 - val_loss: 0.0946\n",
      "Epoch 46/100\n",
      "60000/60000 [==============================] - 94s 2ms/step - loss: 0.0955 - val_loss: 0.0953\n",
      "Epoch 47/100\n",
      "60000/60000 [==============================] - 94s 2ms/step - loss: 0.0955 - val_loss: 0.0955\n",
      "Epoch 48/100\n",
      "60000/60000 [==============================] - 94s 2ms/step - loss: 0.0953 - val_loss: 0.0960\n",
      "Epoch 49/100\n",
      "60000/60000 [==============================] - 95s 2ms/step - loss: 0.0954 - val_loss: 0.0944\n",
      "Epoch 50/100\n",
      "60000/60000 [==============================] - 95s 2ms/step - loss: 0.0953 - val_loss: 0.0946\n",
      "Epoch 51/100\n",
      "60000/60000 [==============================] - 95s 2ms/step - loss: 0.0953 - val_loss: 0.0948\n",
      "Epoch 52/100\n",
      "60000/60000 [==============================] - 97s 2ms/step - loss: 0.0953 - val_loss: 0.0950\n",
      "Epoch 53/100\n",
      "60000/60000 [==============================] - 97s 2ms/step - loss: 0.0952 - val_loss: 0.0946\n",
      "Epoch 54/100\n",
      "60000/60000 [==============================] - 96s 2ms/step - loss: 0.0952 - val_loss: 0.0958\n",
      "Epoch 55/100\n",
      "60000/60000 [==============================] - 96s 2ms/step - loss: 0.0952 - val_loss: 0.0944\n",
      "Epoch 56/100\n",
      "60000/60000 [==============================] - 95s 2ms/step - loss: 0.0951 - val_loss: 0.0954\n",
      "Epoch 57/100\n",
      "60000/60000 [==============================] - 94s 2ms/step - loss: 0.0951 - val_loss: 0.0947\n",
      "Epoch 58/100\n",
      "60000/60000 [==============================] - 94s 2ms/step - loss: 0.0950 - val_loss: 0.0950\n",
      "Epoch 59/100\n",
      "60000/60000 [==============================] - 96s 2ms/step - loss: 0.0950 - val_loss: 0.0943\n",
      "Epoch 60/100\n",
      "60000/60000 [==============================] - 96s 2ms/step - loss: 0.0950 - val_loss: 0.0945\n",
      "Epoch 61/100\n",
      "60000/60000 [==============================] - 109s 2ms/step - loss: 0.0950 - val_loss: 0.0951\n",
      "Epoch 62/100\n",
      "60000/60000 [==============================] - 114s 2ms/step - loss: 0.0949 - val_loss: 0.0941\n",
      "Epoch 63/100\n",
      "60000/60000 [==============================] - 114s 2ms/step - loss: 0.0948 - val_loss: 0.0943\n",
      "Epoch 64/100\n",
      "60000/60000 [==============================] - 116s 2ms/step - loss: 0.0949 - val_loss: 0.0946\n",
      "Epoch 65/100\n",
      "60000/60000 [==============================] - 115s 2ms/step - loss: 0.0948 - val_loss: 0.0943\n",
      "Epoch 66/100\n",
      "60000/60000 [==============================] - 115s 2ms/step - loss: 0.0948 - val_loss: 0.0948\n",
      "Epoch 67/100\n",
      "60000/60000 [==============================] - 115s 2ms/step - loss: 0.0948 - val_loss: 0.0941\n",
      "Epoch 68/100\n",
      "60000/60000 [==============================] - 116s 2ms/step - loss: 0.0947 - val_loss: 0.0949\n",
      "Epoch 69/100\n",
      "60000/60000 [==============================] - 115s 2ms/step - loss: 0.0947 - val_loss: 0.0943\n",
      "Epoch 70/100\n",
      "60000/60000 [==============================] - 116s 2ms/step - loss: 0.0947 - val_loss: 0.0949\n",
      "Epoch 71/100\n",
      "60000/60000 [==============================] - 117s 2ms/step - loss: 0.0946 - val_loss: 0.0940\n",
      "Epoch 72/100\n",
      "60000/60000 [==============================] - 104s 2ms/step - loss: 0.0946 - val_loss: 0.0939\n",
      "Epoch 73/100\n",
      "60000/60000 [==============================] - 96s 2ms/step - loss: 0.0946 - val_loss: 0.0941\n",
      "Epoch 74/100\n",
      "60000/60000 [==============================] - 96s 2ms/step - loss: 0.0946 - val_loss: 0.0939\n",
      "Epoch 75/100\n",
      "60000/60000 [==============================] - 97s 2ms/step - loss: 0.0945 - val_loss: 0.0939\n",
      "Epoch 76/100\n",
      "60000/60000 [==============================] - 98s 2ms/step - loss: 0.0945 - val_loss: 0.0967\n",
      "Epoch 77/100\n",
      "60000/60000 [==============================] - 98s 2ms/step - loss: 0.0944 - val_loss: 0.0950\n",
      "Epoch 78/100\n",
      "60000/60000 [==============================] - 99s 2ms/step - loss: 0.0945 - val_loss: 0.0940\n",
      "Epoch 79/100\n",
      "60000/60000 [==============================] - 97s 2ms/step - loss: 0.0944 - val_loss: 0.0938\n",
      "Epoch 80/100\n",
      "60000/60000 [==============================] - 96s 2ms/step - loss: 0.0944 - val_loss: 0.0937\n",
      "Epoch 81/100\n",
      "60000/60000 [==============================] - 97s 2ms/step - loss: 0.0944 - val_loss: 0.0937\n",
      "Epoch 82/100\n",
      "60000/60000 [==============================] - 96s 2ms/step - loss: 0.0944 - val_loss: 0.0947\n",
      "Epoch 83/100\n",
      "60000/60000 [==============================] - 96s 2ms/step - loss: 0.0944 - val_loss: 0.0938\n",
      "Epoch 84/100\n",
      "60000/60000 [==============================] - 96s 2ms/step - loss: 0.0943 - val_loss: 0.0938\n",
      "Epoch 85/100\n",
      "60000/60000 [==============================] - 112s 2ms/step - loss: 0.0943 - val_loss: 0.0936\n",
      "Epoch 86/100\n",
      "60000/60000 [==============================] - 115s 2ms/step - loss: 0.0943 - val_loss: 0.0941\n",
      "Epoch 87/100\n",
      "60000/60000 [==============================] - 114s 2ms/step - loss: 0.0943 - val_loss: 0.0943\n",
      "Epoch 88/100\n",
      "60000/60000 [==============================] - 115s 2ms/step - loss: 0.0942 - val_loss: 0.0936\n",
      "Epoch 89/100\n",
      "60000/60000 [==============================] - 116s 2ms/step - loss: 0.0943 - val_loss: 0.0948\n",
      "Epoch 90/100\n",
      "60000/60000 [==============================] - 116s 2ms/step - loss: 0.0943 - val_loss: 0.0941\n",
      "Epoch 91/100\n",
      "60000/60000 [==============================] - 116s 2ms/step - loss: 0.0942 - val_loss: 0.0936\n",
      "Epoch 92/100\n",
      "60000/60000 [==============================] - 116s 2ms/step - loss: 0.0941 - val_loss: 0.0938\n",
      "Epoch 93/100\n",
      "60000/60000 [==============================] - 114s 2ms/step - loss: 0.0941 - val_loss: 0.0948\n",
      "Epoch 94/100\n",
      "60000/60000 [==============================] - 115s 2ms/step - loss: 0.0942 - val_loss: 0.0941\n",
      "Epoch 95/100\n",
      "60000/60000 [==============================] - 113s 2ms/step - loss: 0.0942 - val_loss: 0.0939\n",
      "Epoch 96/100\n",
      "60000/60000 [==============================] - 113s 2ms/step - loss: 0.0941 - val_loss: 0.0937\n",
      "Epoch 97/100\n",
      "60000/60000 [==============================] - 114s 2ms/step - loss: 0.0941 - val_loss: 0.0936\n",
      "Epoch 98/100\n",
      "60000/60000 [==============================] - 117s 2ms/step - loss: 0.0941 - val_loss: 0.0940\n",
      "Epoch 99/100\n",
      "60000/60000 [==============================] - 116s 2ms/step - loss: 0.0941 - val_loss: 0.0937\n",
      "Epoch 100/100\n",
      "60000/60000 [==============================] - 116s 2ms/step - loss: 0.0940 - val_loss: 0.0936\n"
     ]
    },
    {
     "data": {
      "text/plain": [
       "<keras.callbacks.History at 0x1c65198eb8>"
      ]
     },
     "execution_count": 56,
     "metadata": {},
     "output_type": "execute_result"
    }
   ],
   "source": [
    "autoencoder.fit(x_train_noisy, x_train,\n",
    "                epochs=100,\n",
    "                batch_size=128,\n",
    "                shuffle=True,\n",
    "                validation_data=(x_test_noisy, x_test),\n",
    "                callbacks=[TensorBoard(log_dir='/Users/esousa/autoencoder', histogram_freq=0, write_graph=False)])"
   ]
  },
  {
   "cell_type": "markdown",
   "metadata": {},
   "source": [
    "Now let's take a look at the results. Top, the noisy digits fed to the network, and bottom, the digits are reconstructed by the network."
   ]
  },
  {
   "cell_type": "code",
   "execution_count": 59,
   "metadata": {},
   "outputs": [
    {
     "data": {
      "image/png": "[encoded data removed]",
      "text/plain": [
       "<Figure size 1440x288 with 20 Axes>"
      ]
     },
     "metadata": {
      "needs_background": "light"
     },
     "output_type": "display_data"
    }
   ],
   "source": [
    "decoded_imgs = autoencoder.predict(x_test_noisy)\n",
    "\n",
    "n = 10\n",
    "plt.figure(figsize=(20, 4))\n",
    "for i in range(n):\n",
    "    # display original\n",
    "    ax = plt.subplot(2, n, i+1)\n",
    "    plt.imshow(x_test_noisy[i].reshape(28, 28))\n",
    "    plt.gray()\n",
    "    ax.get_xaxis().set_visible(False)\n",
    "    ax.get_yaxis().set_visible(False)\n",
    "\n",
    "    # display reconstruction\n",
    "    ax = plt.subplot(2, n, i + n + 1)\n",
    "    plt.imshow(decoded_imgs[i].reshape(28, 28))\n",
    "    plt.gray()\n",
    "    ax.get_xaxis().set_visible(False)\n",
    "    ax.get_yaxis().set_visible(False)\n",
    "plt.show()"
   ]
  },
  {
   "cell_type": "markdown",
   "metadata": {},
   "source": [
    "It seems to work pretty well. If you scale this process to a bigger convnet, you can start building document denoising or audio denoising models. [Kaggle has an interesting dataset to get you started.](https://www.kaggle.com/c/denoising-dirty-documents)"
   ]
  },
  {
   "cell_type": "markdown",
   "metadata": {},
   "source": [
    "### Sequence-to-sequence autoencoder\n",
    "\n",
    "If you inputs are sequences, rather than vectors or 2D images, then you may want to use as encoder and decoder a type of model that can capture temporal structure, such as a LSTM. To build a LSTM-based autoencoder, first use a LSTM encoder to turn your input sequences into a single vector that contains information about the entire sequence, then repeat this vector n times (where n is the number of timesteps in the output sequence), and run a LSTM decoder to turn this constant sequence into the target sequence.\n",
    "\n",
    "```python\n",
    "from keras.layers import Input, LSTM, RepeatVector\n",
    "from keras.models import Model\n",
    "\n",
    "inputs = Input(shape=(timesteps, input_dim))\n",
    "encoded = LSTM(latent_dim)(inputs)\n",
    "\n",
    "decoded = RepeatVector(timesteps)(encoded)\n",
    "decoded = LSTM(input_dim, return_sequences=True)(decoded)\n",
    "\n",
    "sequence_autoencoder = Model(inputs, decoded)\n",
    "encoder = Model(inputs, encoded)\n",
    "```"
   ]
  },
  {
   "cell_type": "markdown",
   "metadata": {},
   "source": [
    "### Variational autoencoder (VAE)\n",
    "\n",
    "Variational autoencoders are a slightly more modern and interesting take on autoencoding.\n",
    "\n",
    "What is a variational autoencoder, you ask? It's a type of autoencoder with added constraints on the encoded representations being learned. More precisely, it is an autoencoder that learns a latent variable model for its input data. So instead of letting your neural network learn an arbitrary function, you are learning the parameters of a probability distribution modeling your data. If you sample points from this distribution, you can generate new input data samples: a VAE is a \"generative model\".\n",
    "\n",
    "How does a variational autoencoder work?\n",
    "\n",
    "First, an encoder network turns the input samples x into two parameters in a latent space, which we will note z_mean and z_log_sigma. Then, we randomly sample similar points z from the latent normal distribution that is assumed to generate the data, via z = z_mean + exp(z_log_sigma) * epsilon, where epsilon is a random normal tensor. Finally, a decoder network maps these latent space points back to the original input data.\n",
    "\n",
    "The parameters of the model are trained via two loss functions: a reconstruction loss forcing the decoded samples to match the initial inputs (just like in our previous autoencoders), and the KL divergence between the learned latent distribution and the prior distribution, acting as a regularization term. You could actually get rid of this latter term entirely, although it does help in learning well-formed latent spaces and reducing overfitting to the training data.\n",
    "\n",
    "First, here's our encoder network, mapping inputs to our latent distribution parameters:"
   ]
  },
  {
   "cell_type": "code",
   "execution_count": 60,
   "metadata": {},
   "outputs": [
    {
     "ename": "NameError",
     "evalue": "name 'batch_size' is not defined",
     "output_type": "error",
     "traceback": [
      "\u001b[0;31m---------------------------------------------------------------------------\u001b[0m",
      "\u001b[0;31mNameError\u001b[0m                                 Traceback (most recent call last)",
      "\u001b[0;32m<ipython-input-60-9e785c714a43>\u001b[0m in \u001b[0;36m<module>\u001b[0;34m\u001b[0m\n\u001b[0;32m----> 1\u001b[0;31m \u001b[0mx\u001b[0m \u001b[0;34m=\u001b[0m \u001b[0mInput\u001b[0m\u001b[0;34m(\u001b[0m\u001b[0mbatch_shape\u001b[0m\u001b[0;34m=\u001b[0m\u001b[0;34m(\u001b[0m\u001b[0mbatch_size\u001b[0m\u001b[0;34m,\u001b[0m \u001b[0moriginal_dim\u001b[0m\u001b[0;34m)\u001b[0m\u001b[0;34m)\u001b[0m\u001b[0;34m\u001b[0m\u001b[0;34m\u001b[0m\u001b[0m\n\u001b[0m\u001b[1;32m      2\u001b[0m \u001b[0mh\u001b[0m \u001b[0;34m=\u001b[0m \u001b[0mDense\u001b[0m\u001b[0;34m(\u001b[0m\u001b[0mintermediate_dim\u001b[0m\u001b[0;34m,\u001b[0m \u001b[0mactivation\u001b[0m\u001b[0;34m=\u001b[0m\u001b[0;34m'relu'\u001b[0m\u001b[0;34m)\u001b[0m\u001b[0;34m(\u001b[0m\u001b[0mx\u001b[0m\u001b[0;34m)\u001b[0m\u001b[0;34m\u001b[0m\u001b[0;34m\u001b[0m\u001b[0m\n\u001b[1;32m      3\u001b[0m \u001b[0mz_mean\u001b[0m \u001b[0;34m=\u001b[0m \u001b[0mDense\u001b[0m\u001b[0;34m(\u001b[0m\u001b[0mlatent_dim\u001b[0m\u001b[0;34m)\u001b[0m\u001b[0;34m(\u001b[0m\u001b[0mh\u001b[0m\u001b[0;34m)\u001b[0m\u001b[0;34m\u001b[0m\u001b[0;34m\u001b[0m\u001b[0m\n\u001b[1;32m      4\u001b[0m \u001b[0mz_log_sigma\u001b[0m \u001b[0;34m=\u001b[0m \u001b[0mDense\u001b[0m\u001b[0;34m(\u001b[0m\u001b[0mlatent_dim\u001b[0m\u001b[0;34m)\u001b[0m\u001b[0;34m(\u001b[0m\u001b[0mh\u001b[0m\u001b[0;34m)\u001b[0m\u001b[0;34m\u001b[0m\u001b[0;34m\u001b[0m\u001b[0m\n",
      "\u001b[0;31mNameError\u001b[0m: name 'batch_size' is not defined"
     ]
    }
   ],
   "source": [
    "x = Input(batch_shape=(batch_size, original_dim))\n",
    "h = Dense(intermediate_dim, activation='relu')(x)\n",
    "z_mean = Dense(latent_dim)(h)\n",
    "z_log_sigma = Dense(latent_dim)(h)"
   ]
  },
  {
   "cell_type": "code",
   "execution_count": null,
   "metadata": {},
   "outputs": [],
   "source": []
  }
 ],
 "metadata": {
  "kernelspec": {
   "display_name": "Python 3",
   "language": "python",
   "name": "python3"
  },
  "language_info": {
   "codemirror_mode": {
    "name": "ipython",
    "version": 3
   },
   "file_extension": ".py",
   "mimetype": "text/x-python",
   "name": "python",
   "nbconvert_exporter": "python",
   "pygments_lexer": "ipython3",
   "version": "3.7.1"
  }
 },
 "nbformat": 4,
 "nbformat_minor": 2
}
