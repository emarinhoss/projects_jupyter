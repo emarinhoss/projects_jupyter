{
 "cells": [
  {
   "cell_type": "markdown",
   "metadata": {},
   "source": [
    "# Collisional-Radiative (CR) Modeling\n",
    "\n",
    "The CR model functions as a generalized equation of state for the electronic energy modes. It is used to compute the populations of the excited levels through detailed kinetic relations for excitation and ionization, and reverse processes, allowing for non-Boltzmann distribution of bound electronic states. Rates are computed from collision cross sections of the associated processes under the assumption of a Maxwellian electron energy distribution function(EEDF).\n",
    "\n"
   ]
  },
  {
   "cell_type": "markdown",
   "metadata": {},
   "source": [
    "In the CR model, each electronic state of the atom is treated as a separate species. The time evolution of the species’ number densities are determined by solving a set of rate equations, which includes all the relevant kinetic processes by means of collisional and radiative interactions. All the macroscopic rates are computed assuming a Maxwellian EEDF of the heavy particles or electrons."
   ]
  },
  {
   "cell_type": "markdown",
   "metadata": {},
   "source": [
    "For a given microscopic cross section, $\\sigma$(E), the macroscopic reaction rate is\n",
    "\n",
    "$$ k(T) = \\frac{\\bar{v}}{T^2}\\int_{E_o}^\\infty \\sigma(E)Ee^{-E/T}dE$$ \n",
    "\n",
    "* $E_o$ is the threshold energy\n",
    "* $\\bar{v} = \\left(\\frac{8T}{\\pi\\mu}\\right)$, the mean thermal speed, where $\\mu$ is the reduced mass"
   ]
  },
  {
   "cell_type": "markdown",
   "metadata": {},
   "source": [
    "## Collisional Ionization/Recombination\n",
    "\n",
    "For Argon electron-impact ionization \n",
    "\n",
    "$$ Ar(n) + e^- \\rightleftharpoons Ar^+ + 2e^- $$\n",
    "\n",
    "and the rate change of number density of level n in this case is\n",
    "\n",
    "$$ \\frac{dn_n}{dt} = -k_n^{ei}n_nn_e + k_n^{er}n_+n_e^2. $$\n",
    "\n",
    "The first term describes the loss due to ionization from level n, as a result of collisions of the free electrons with the existing state n; The second term describes the gain due to the three-body recombination process\n",
    "induced by the free electrons from the ion state.\n",
    "\n",
    "The equilibrium for ionization and recombination involves a Saha distribution\n",
    "\n",
    "$$ \\left(\\frac{n_+n_e}{n_n} \\right)^* \\equiv \\mathcal{S}_n(T_e) = \\frac{2g_+}{g_n}\\left(\\frac{2\\pi m_eT_e}{h^2}\\right)^{3/2}e^{-I_n/T_e} $$\n",
    "\n",
    "and the recombination rate is given as\n",
    "\n",
    "$$ \\frac{k_n^{ei}}{k_n^{er}} = \\frac{2g_+}{g_n}\\left(\\frac{2\\pi m_eT_e}{h^2}\\right)^{3/2}e^{-I_n/T_e}.$$"
   ]
  },
  {
   "cell_type": "markdown",
   "metadata": {},
   "source": [
    "For atom-impact collisional ionization\n",
    "\n",
    "$$ Ar(n) + Ar \\rightleftharpoons Ar^+ + e^- + Ar $$\n",
    "\n",
    "The rate of change of the state population is written in a similar fashion with $n_e$ being replaced by $n_{Ar}$ and the expression for the backward rate has $T_h$ in the exponential term\n",
    "\n",
    "$$ \\frac{dn_n}{dt} = -k_n^{hi}n_nn_{Ar} + k_n^{hr}n_+n_en_{Ar}. $$"
   ]
  },
  {
   "cell_type": "markdown",
   "metadata": {
    "collapsed": true
   },
   "source": [
    "The cross section for ionization from ground state argon is given as \n",
    "\n",
    "$$ \\sigma_1^a(E) = 1.8\\times 10^{-25} (E-15.760)^{1.3} [m^2],$$\n",
    "\n",
    "while Darwin's formula is used for all the other levels\n",
    "\n",
    "$$ \\sigma_1^a(E) = 4\\pi a_o^2\\left(\\frac{I_H}{I_i}\\right)^2\\frac{m_{Ar}}{m_H}\\xi^2\\frac{2m_e}{m_{Ar}+m_e}\\frac{E/I_i-1}{\\left(1+\\frac{2m_e}{m_{Ar}+m_e}(E/I_i-1)\\right)^2}$$"
   ]
  },
  {
   "cell_type": "code",
   "execution_count": null,
   "metadata": {
    "collapsed": true
   },
   "outputs": [],
   "source": []
  }
 ],
 "metadata": {
  "kernelspec": {
   "display_name": "Python 2",
   "language": "python",
   "name": "python2"
  },
  "language_info": {
   "codemirror_mode": {
    "name": "ipython",
    "version": 2
   },
   "file_extension": ".py",
   "mimetype": "text/x-python",
   "name": "python",
   "nbconvert_exporter": "python",
   "pygments_lexer": "ipython2",
   "version": "2.7.6"
  }
 },
 "nbformat": 4,
 "nbformat_minor": 0
}
