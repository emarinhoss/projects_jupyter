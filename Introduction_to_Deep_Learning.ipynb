{
 "cells": [
  {
   "cell_type": "markdown",
   "metadata": {},
   "source": [
    "# Intro to Deep Learning\n",
    "\n",
    "## Part 1\n",
    "\n",
    "Imagine you work for a bank and you need to predict how many transactions each customer will make next year.\n",
    "\n",
    "### Interactions\n",
    "* Neural networks account for interactions really well\n",
    "* Deep learning uses especially powerful neural networks\n",
    "* Text\n",
    "* Images\n",
    "* Videos\n",
    "* Audio\n",
    "* Source code\n",
    "\n",
    "### Course structure\n",
    "* First two chapters focus on conceptual knowledge\n",
    "    * Debug and tune deep learning models on conventional prediction problems\n",
    "    * Lay the foundation for progressing towards modern applications\n",
    "* This will pay off in the third and fourth chapters"
   ]
  },
  {
   "cell_type": "code",
   "execution_count": 1,
   "metadata": {
    "collapsed": false
   },
   "outputs": [
    {
     "name": "stderr",
     "output_type": "stream",
     "text": [
      "Using TensorFlow backend.\n"
     ]
    }
   ],
   "source": [
    "# Build deep learning models with keras\n",
    "import numpy as np\n",
    "from keras.layers import Dense\n",
    "from keras.models import Sequential"
   ]
  },
  {
   "cell_type": "markdown",
   "metadata": {},
   "source": [
    "```python\n",
    "predictors = np.loadtxt('predictors_data.csv', delimiter=',')\n",
    "n_cols = predictors.shape[1]\n",
    "model = Sequential()\n",
    "model.add(Dense(100, activation='relu', input_shape = (n_cols,)))\n",
    "model.add(Dense(100, activation='relu')\n",
    "model.add(Dense(1))\n",
    "```"
   ]
  },
  {
   "cell_type": "markdown",
   "metadata": {},
   "source": [
    "### Forward propagation\n",
    "\n",
    "### Bank transactions example\n",
    "* Make predictions based on:\n",
    "    * Number of children\n",
    "    * Number of existing accounts\n",
    "    \n",
    "    "
   ]
  }
 ],
 "metadata": {
  "kernelspec": {
   "display_name": "Python 2",
   "language": "python",
   "name": "python2"
  },
  "language_info": {
   "codemirror_mode": {
    "name": "ipython",
    "version": 2
   },
   "file_extension": ".py",
   "mimetype": "text/x-python",
   "name": "python",
   "nbconvert_exporter": "python",
   "pygments_lexer": "ipython2",
   "version": "2.7.6"
  }
 },
 "nbformat": 4,
 "nbformat_minor": 0
}
