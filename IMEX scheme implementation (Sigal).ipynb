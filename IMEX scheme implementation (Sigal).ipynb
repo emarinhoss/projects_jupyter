{
 "cells": [
  {
   "cell_type": "markdown",
   "metadata": {},
   "source": [
    "# Implicit-Explicit Strong stability Preserving Runge-Kutta Methods with High Linear Order"
   ]
  },
  {
   "cell_type": "markdown",
   "metadata": {},
   "source": [
    "For inital value problems of the form:\n",
    "$$ U'(t) = F(U(t)) + G(U(t)),$$  $$U(t_o) = U_o,$$ for $$t \\geq t_o$$ "
   ]
  },
  {
   "cell_type": "markdown",
   "metadata": {},
   "source": [
    "For cases where the linear (G) portion of the problem is stiff while the nonlinear (F) one if not, IMEX schemes should be considered. IMEX Runge-Kutta method is a special case of the additive Runge-Kutta method. \"An s-stage Additive Runge-Kutta (ARK) method is defined by two $s \\times s$ real matrices $\\mathbf{A}$ and $\\mathbf{\\tilde{A}}$, and two real vectors $\\mathbf{b}$ and $\\mathbf{\\tilde{b}}$ such that:\""
   ]
  },
  {
   "cell_type": "markdown",
   "metadata": {},
   "source": [
    "$$u^i = u^n + \\Delta t \\left(\\sum_{j=1}^s a_{ij} F(u^j) + \\tilde{a}_{ij} G(u^j)\\right) $$\n",
    "$$u^{n+1} = u^n + \\Delta t \\left( \\sum_{i=1}^s b_i F(u^i) + \\tilde{b}_i G(u^i)  \\right)$$\n",
    "\n",
    "Where 's' denotes the number of stages in the method."
   ]
  },
  {
   "cell_type": "markdown",
   "metadata": {},
   "source": [
    "A family of methods that pair with the three-stage third order Shu-Osher method, given by a strictly lower trinagular matrix"
   ]
  },
  {
   "cell_type": "markdown",
   "metadata": {},
   "source": [
    "$$ \\mathbf{A} = \n",
    "\\left(\\begin{array}{ccc} \n",
    "0 & 0 & 0\\\\\n",
    "1 & 0 & 0\\\\\n",
    "\\frac{1}{4} & \\frac{1}{4} & 0\n",
    "\\end{array}\\right),\n",
    "$$ and\n",
    "$$\\mathbf{b} = \\left(\\frac{1}{6},\\frac{1}{6},\\frac{2}{3}\\right)^T.$$"
   ]
  },
  {
   "cell_type": "markdown",
   "metadata": {},
   "source": [
    "These implicit pair methods are defined by $\\mathbf{b} = \\mathbf{\\tilde{b}}$, and "
   ]
  },
  {
   "cell_type": "markdown",
   "metadata": {},
   "source": [
    "$$\\mathbf{\\tilde{A}} = \\left(\\begin{array}{ccc} \n",
    "0 & 0 & 0\\\\\n",
    "4\\gamma+2\\beta & 1-4\\gamma-2\\beta & 0\\\\\n",
    "\\frac{1}{2}-\\beta-\\gamma & \\gamma & \\beta\n",
    "\\end{array}\\right) $$"
   ]
  },
  {
   "cell_type": "markdown",
   "metadata": {},
   "source": [
    "where $$\\gamma = \\frac{2\\beta^2-\\frac{3}{2}\\beta+\\frac{1}{3}}{2-4\\beta}$$"
   ]
  },
  {
   "cell_type": "markdown",
   "metadata": {},
   "source": [
    "These methods are third order accurate and are A-stable for $\\beta > \\frac{1}{2}$; for $\\beta=\\frac{2}{3}$ \n",
    "$$\\mathbf{\\tilde{A}} = \\left(\\begin{array}{ccc} \n",
    "0 & 0 & 0\\\\\n",
    "0 & 1 & 0\\\\\n",
    "\\frac{1}{6} & -\\frac{1}{3} & \\frac{2}{3}\n",
    "\\end{array}\\right) $$\n",
    "and in the case of $\\beta=\\frac{\\sqrt{3}}{6}+\\frac{1}{2}$ the two non-zero values of the  diagonal are equal."
   ]
  },
  {
   "cell_type": "code",
   "execution_count": 4,
   "metadata": {
    "collapsed": true
   },
   "outputs": [],
   "source": [
    "from numpy import *"
   ]
  },
  {
   "cell_type": "code",
   "execution_count": 11,
   "metadata": {
    "collapsed": false
   },
   "outputs": [
    {
     "data": {
      "text/plain": [
       "0.788675429726997"
      ]
     },
     "execution_count": 11,
     "metadata": {},
     "output_type": "execute_result"
    }
   ],
   "source": [
    "beta = 780./989.; beta"
   ]
  },
  {
   "cell_type": "code",
   "execution_count": 12,
   "metadata": {
    "collapsed": false
   },
   "outputs": [
    {
     "data": {
      "text/plain": [
       "-0.3415064247292311"
      ]
     },
     "execution_count": 12,
     "metadata": {},
     "output_type": "execute_result"
    }
   ],
   "source": [
    "gamma = (2.*beta**2.-1.5*beta+1./3.)/(2.-4*beta); gamma"
   ]
  },
  {
   "cell_type": "code",
   "execution_count": 13,
   "metadata": {
    "collapsed": false
   },
   "outputs": [
    {
     "data": {
      "text/plain": [
       "array([[ 0.        ,  0.        ,  0.        ],\n",
       "       [ 0.21132516,  0.78867484,  0.        ],\n",
       "       [ 0.052831  , -0.34150642,  0.78867543]])"
      ]
     },
     "execution_count": 13,
     "metadata": {},
     "output_type": "execute_result"
    }
   ],
   "source": [
    "A = array([[0,0,0],[4.*gamma+2.*beta,1.-4.*gamma-2.*beta, 0],[0.5-beta-gamma,gamma,beta]]); A"
   ]
  },
  {
   "cell_type": "markdown",
   "metadata": {
    "collapsed": true
   },
   "source": [
    "In the two-fluid plasma model the electrons and Maxwell field solve can be considered linearized whie the ion fluid is nonlinear. The governing equations for the electron fluid and the electromagnetic fields of the multi-fluid plasma model are expressed as:\n",
    "\n",
    "$$ \\frac{\\partial\\mathbf{Q}^f}{\\partial t}+\\nabla\\cdot\\mathcal{F}=\\mathbf{S}^f + \\nabla\\cdot \\left( \\kappa \\nabla\\mathbf{Q}^* \\right).$$\n",
    "\n",
    "The solution vector is expanded within each element using polynomial functions\n",
    "$$\\mathbf{Q}^f (t, x) = \\sum_{j=1}^{m} \\mathbf{q}_j (t) \\psi_j (x),$$\n",
    "where $\\psi_j$ are the spatial basis functions and $\\mathbf{q}_j$ are the time-dependent nodal coefficients. Lagrange polynomials are used as basis functions. The numerical method used is the continuous Galerkin (CG) finite element method, with the elemente equations given as\n",
    "$$ \\mathcal{M}_{ij}^e \\frac{\\mathbf{q}_j^{n+1} - \\mathbf{q}_j^n}{\\Delta t} =\n",
    "- \\left[ \\int_\\Omega d\\mathbf{x} \\psi_i \\frac{\\partial\\mathcal{F}}{\\partial\\mathbf{Q}^f} \\cdot \\frac{\\partial \\psi_j}{\\partial \\mathbf{x}} \\right] \\mathbf{q}_j + \\mathbf{f}_i^e + \\mathcal{D}_{ij}^e \\mathbf{q}^*_j\n",
    "+ \\left[ \\oint_{\\partial \\Omega} \\mathbf{A} \\cdot \\frac{\\partial \\psi_j}{\\partial \\mathbf{x}} \\kappa \\psi_i \\right] \\mathbf{q}^*_j = \\mathcal{G(u)},$$ \n",
    "\n",
    "where mass matrix is given as \n",
    "$$ \\mathcal{M}_{ij}^e = \\int_\\Omega d\\mathbf{x} \\psi_i \\psi_j,$$\n",
    "the dissipation matrix is defined as,\n",
    "$$ \\mathcal{D}_{ij}^e = -\\int_\\Omega d\\mathbf{x} \\kappa \\frac{\\partial \\psi_i}{\\partial \\mathbf{x}} \\cdot \\frac{\\partial \\psi_j}{\\partial \\mathbf{x}},$$\n",
    "the element shource vector is \n",
    "$$ \\mathbf{f}_i^e = \\int_\\Omega d\\mathbf{x} \\psi_i \\mathbf{S}^f.$$ \n",
    "\n",
    "In the IMEX scheme this is the stiff part that will be done implicitly. And the residual equation to be solve is given as $$\\mathcal{R}(u) =\\mathcal{M}(u^i - u^n) - \\Delta t \\sum_{j=1}^s\\tilde{a}_{ij} \\mathcal{G}(u^j) = 0.$$"
   ]
  },
  {
   "cell_type": "code",
   "execution_count": null,
   "metadata": {
    "collapsed": true
   },
   "outputs": [],
   "source": []
  }
 ],
 "metadata": {
  "kernelspec": {
   "display_name": "Python 2",
   "language": "python",
   "name": "python2"
  },
  "language_info": {
   "codemirror_mode": {
    "name": "ipython",
    "version": 2
   },
   "file_extension": ".py",
   "mimetype": "text/x-python",
   "name": "python",
   "nbconvert_exporter": "python",
   "pygments_lexer": "ipython2",
   "version": "2.7.6"
  }
 },
 "nbformat": 4,
 "nbformat_minor": 0
}
