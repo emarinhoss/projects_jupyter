{
 "cells": [
  {
   "cell_type": "markdown",
   "metadata": {},
   "source": [
    "# n=2 Rotational Instability\n",
    "\n",
    "This mode is analogous to the gravity-driven Rayleigh–Taylor instability where centrifugal acceleration gives rise to a gravitational potential energy effect.\n",
    "\n",
    "In magnetohydrodynamic (MHD) theory the mode had a nominal real frequency and growth rate of $\\omega_R$, $\\gamma\\approx\\Omega$ (rotational frequency of the ion fluid). Adding finite-Larmor-radius 'FLR' effect, the mode exhibited a stability threshold for a particular ratio of $\\Omega/\\Omega_*$ ($*$ is the ion diamagnetic drift frequency).\n",
    "\n",
    "Quadripole stabilization occurs for \n",
    "$$ \\frac{(B_\\theta)_{qu}}{\\sqrt{\\mu_o m_i n_m}} > \\gamma_or_s $$"
   ]
  },
  {
   "cell_type": "markdown",
   "metadata": {
    "collapsed": true
   },
   "source": [
    "Theta-pinch formed FRCs generally develop a rotational n=2 interchange mode when they spin up to close to the ion diamagnetic velocity, $\\Omega\\sim\\Omega_D=8\\times 10^3 K_{RR} T_i (eV)/B_e (mT) r^2_s (rad/sec)$ , assuming a RR\n",
    "profile with the profile parameter $K_{RR}\\sim 0.7$ for typical translated FRC conditions in TCS. These instabilities take the form of a severe elliptical distortion that destroys the conventional pinch formed FRCs in a few growth times. It has usually been stabilized by steady multipole fields of magnitude $B^2_m/2\\mu_o\\sim 0.5\\langle \\rho\\rangle\\Omega^2r_s^2$."
   ]
  },
  {
   "cell_type": "markdown",
   "metadata": {},
   "source": []
  }
 ],
 "metadata": {
  "kernelspec": {
   "display_name": "Python 2",
   "language": "python",
   "name": "python2"
  },
  "language_info": {
   "codemirror_mode": {
    "name": "ipython",
    "version": 2
   },
   "file_extension": ".py",
   "mimetype": "text/x-python",
   "name": "python",
   "nbconvert_exporter": "python",
   "pygments_lexer": "ipython2",
   "version": "2.7.6"
  }
 },
 "nbformat": 4,
 "nbformat_minor": 0
}
